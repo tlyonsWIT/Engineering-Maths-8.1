{
  "nbformat": 4,
  "nbformat_minor": 0,
  "metadata": {
    "colab": {
      "name": "Engineering Maths 8.1 - Python Workbook 2.ipynb",
      "provenance": [],
      "authorship_tag": "ABX9TyNPG/+oUP34fG4OBv8U5BuQ",
      "include_colab_link": true
    },
    "kernelspec": {
      "name": "python3",
      "display_name": "Python 3"
    },
    "widgets": {
      "application/vnd.jupyter.widget-state+json": {
        "b32ecb14f2634e5aa390927c2e9ea0ed": {
          "model_module": "@jupyter-widgets/controls",
          "model_name": "VBoxModel",
          "state": {
            "_view_name": "VBoxView",
            "_dom_classes": [
              "widget-interact"
            ],
            "_model_name": "VBoxModel",
            "_view_module": "@jupyter-widgets/controls",
            "_model_module_version": "1.5.0",
            "_view_count": null,
            "_view_module_version": "1.5.0",
            "box_style": "",
            "layout": "IPY_MODEL_c71bf73f21a3455eb0ebe366b21b48b0",
            "_model_module": "@jupyter-widgets/controls",
            "children": [
              "IPY_MODEL_04928e1cae5942d59d731494a03a8ec3",
              "IPY_MODEL_6353e82427aa4c8781b8751ebf9ede6a"
            ]
          }
        },
        "c71bf73f21a3455eb0ebe366b21b48b0": {
          "model_module": "@jupyter-widgets/base",
          "model_name": "LayoutModel",
          "state": {
            "_view_name": "LayoutView",
            "grid_template_rows": null,
            "right": null,
            "justify_content": null,
            "_view_module": "@jupyter-widgets/base",
            "overflow": null,
            "_model_module_version": "1.2.0",
            "_view_count": null,
            "flex_flow": null,
            "width": null,
            "min_width": null,
            "border": null,
            "align_items": null,
            "bottom": null,
            "_model_module": "@jupyter-widgets/base",
            "top": null,
            "grid_column": null,
            "overflow_y": null,
            "overflow_x": null,
            "grid_auto_flow": null,
            "grid_area": null,
            "grid_template_columns": null,
            "flex": null,
            "_model_name": "LayoutModel",
            "justify_items": null,
            "grid_row": null,
            "max_height": null,
            "align_content": null,
            "visibility": null,
            "align_self": null,
            "height": null,
            "min_height": null,
            "padding": null,
            "grid_auto_rows": null,
            "grid_gap": null,
            "max_width": null,
            "order": null,
            "_view_module_version": "1.2.0",
            "grid_template_areas": null,
            "object_position": null,
            "object_fit": null,
            "grid_auto_columns": null,
            "margin": null,
            "display": null,
            "left": null
          }
        },
        "04928e1cae5942d59d731494a03a8ec3": {
          "model_module": "@jupyter-widgets/controls",
          "model_name": "FloatSliderModel",
          "state": {
            "_view_name": "FloatSliderView",
            "style": "IPY_MODEL_3ee4c47012df45e8a55ffb5337b97b67",
            "_dom_classes": [],
            "description": "t",
            "step": 0.1,
            "_model_name": "FloatSliderModel",
            "orientation": "horizontal",
            "max": 5,
            "_view_module": "@jupyter-widgets/controls",
            "_model_module_version": "1.5.0",
            "value": 0,
            "_view_count": null,
            "disabled": false,
            "_view_module_version": "1.5.0",
            "min": -5,
            "continuous_update": true,
            "readout_format": ".2f",
            "description_tooltip": null,
            "readout": true,
            "_model_module": "@jupyter-widgets/controls",
            "layout": "IPY_MODEL_9a3f996b34e94ed49329822312957e15"
          }
        },
        "6353e82427aa4c8781b8751ebf9ede6a": {
          "model_module": "@jupyter-widgets/output",
          "model_name": "OutputModel",
          "state": {
            "_view_name": "OutputView",
            "msg_id": "",
            "_dom_classes": [],
            "_model_name": "OutputModel",
            "outputs": [
              {
                "output_type": "display_data",
                "metadata": {
                  "tags": [],
                  "needs_background": "light"
                },
                "image/png": "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\n",
                "text/plain": "<Figure size 432x288 with 1 Axes>"
              }
            ],
            "_view_module": "@jupyter-widgets/output",
            "_model_module_version": "1.0.0",
            "_view_count": null,
            "_view_module_version": "1.0.0",
            "layout": "IPY_MODEL_0f6b6f31bde449888246f0b644c01464",
            "_model_module": "@jupyter-widgets/output"
          }
        },
        "3ee4c47012df45e8a55ffb5337b97b67": {
          "model_module": "@jupyter-widgets/controls",
          "model_name": "SliderStyleModel",
          "state": {
            "_view_name": "StyleView",
            "handle_color": null,
            "_model_name": "SliderStyleModel",
            "description_width": "",
            "_view_module": "@jupyter-widgets/base",
            "_model_module_version": "1.5.0",
            "_view_count": null,
            "_view_module_version": "1.2.0",
            "_model_module": "@jupyter-widgets/controls"
          }
        },
        "9a3f996b34e94ed49329822312957e15": {
          "model_module": "@jupyter-widgets/base",
          "model_name": "LayoutModel",
          "state": {
            "_view_name": "LayoutView",
            "grid_template_rows": null,
            "right": null,
            "justify_content": null,
            "_view_module": "@jupyter-widgets/base",
            "overflow": null,
            "_model_module_version": "1.2.0",
            "_view_count": null,
            "flex_flow": null,
            "width": null,
            "min_width": null,
            "border": null,
            "align_items": null,
            "bottom": null,
            "_model_module": "@jupyter-widgets/base",
            "top": null,
            "grid_column": null,
            "overflow_y": null,
            "overflow_x": null,
            "grid_auto_flow": null,
            "grid_area": null,
            "grid_template_columns": null,
            "flex": null,
            "_model_name": "LayoutModel",
            "justify_items": null,
            "grid_row": null,
            "max_height": null,
            "align_content": null,
            "visibility": null,
            "align_self": null,
            "height": null,
            "min_height": null,
            "padding": null,
            "grid_auto_rows": null,
            "grid_gap": null,
            "max_width": null,
            "order": null,
            "_view_module_version": "1.2.0",
            "grid_template_areas": null,
            "object_position": null,
            "object_fit": null,
            "grid_auto_columns": null,
            "margin": null,
            "display": null,
            "left": null
          }
        },
        "0f6b6f31bde449888246f0b644c01464": {
          "model_module": "@jupyter-widgets/base",
          "model_name": "LayoutModel",
          "state": {
            "_view_name": "LayoutView",
            "grid_template_rows": null,
            "right": null,
            "justify_content": null,
            "_view_module": "@jupyter-widgets/base",
            "overflow": null,
            "_model_module_version": "1.2.0",
            "_view_count": null,
            "flex_flow": null,
            "width": null,
            "min_width": null,
            "border": null,
            "align_items": null,
            "bottom": null,
            "_model_module": "@jupyter-widgets/base",
            "top": null,
            "grid_column": null,
            "overflow_y": null,
            "overflow_x": null,
            "grid_auto_flow": null,
            "grid_area": null,
            "grid_template_columns": null,
            "flex": null,
            "_model_name": "LayoutModel",
            "justify_items": null,
            "grid_row": null,
            "max_height": null,
            "align_content": null,
            "visibility": null,
            "align_self": null,
            "height": null,
            "min_height": null,
            "padding": null,
            "grid_auto_rows": null,
            "grid_gap": null,
            "max_width": null,
            "order": null,
            "_view_module_version": "1.2.0",
            "grid_template_areas": null,
            "object_position": null,
            "object_fit": null,
            "grid_auto_columns": null,
            "margin": null,
            "display": null,
            "left": null
          }
        }
      }
    }
  },
  "cells": [
    {
      "cell_type": "markdown",
      "metadata": {
        "id": "view-in-github",
        "colab_type": "text"
      },
      "source": [
        "<a href=\"https://colab.research.google.com/github/tlyonsWIT/Engineering-Maths-8.1/blob/master/Engineering_Maths_8_1_Python_Workbook_2.ipynb\" target=\"_parent\"><img src=\"https://colab.research.google.com/assets/colab-badge.svg\" alt=\"Open In Colab\"/></a>"
      ]
    },
    {
      "cell_type": "markdown",
      "metadata": {
        "id": "0xhJGuEWIQ-e"
      },
      "source": [
        "# Engineering Maths 8.1 2020 - Python Workbook 2\n",
        "\n",
        "## Perpendicular Vectors & Lines in 2D\n",
        "\n",
        "\n",
        "* For this workbook we are going to need the __numpy__ library again.\n",
        "\n",
        "\n",
        "* In addition we are also going to requires the __matplotlib.pyplot__ library for plotting figures.\n",
        "\n",
        "\n",
        "* Two other libraries we import are called __widget__ and __display__, these are used for making our plots interactive. \n",
        "\n",
        "\n",
        "* We import these libraries in the ususal way as follows:"
      ]
    },
    {
      "cell_type": "code",
      "metadata": {
        "id": "_aPLzOF4IcJh"
      },
      "source": [
        "import numpy as np\n",
        "import matplotlib.pyplot as plt\n",
        "\n",
        "import ipywidgets as widgets\n",
        "from IPython.display import display"
      ],
      "execution_count": null,
      "outputs": []
    },
    {
      "cell_type": "markdown",
      "metadata": {
        "id": "_imKVDtCJKAB"
      },
      "source": [
        "* For convenience, we re-define the finction __V2(u1,u2)__ from the previous workbook, which was a funtion we defined to make vectors in an efficient way. "
      ]
    },
    {
      "cell_type": "code",
      "metadata": {
        "id": "7TZoPUoYI9yT"
      },
      "source": [
        "def V2(u1,u2):\n",
        "  return np.array([u1,u2])"
      ],
      "execution_count": null,
      "outputs": []
    },
    {
      "cell_type": "markdown",
      "metadata": {
        "id": "_bt9GD6LKJHS"
      },
      "source": [
        "* We also re-create the function __DOT(U,V)__ which we used to take the dot-product of two vectors."
      ]
    },
    {
      "cell_type": "code",
      "metadata": {
        "id": "7ASQNEyiKUSX"
      },
      "source": [
        "def DOT(U,V):\n",
        "  return sum(U*V)"
      ],
      "execution_count": null,
      "outputs": []
    },
    {
      "cell_type": "markdown",
      "metadata": {
        "id": "VEgPNcVmJpv5"
      },
      "source": [
        "# Parmaterised Lines in 2D\n",
        "\n",
        "\n",
        "* We are all familiar with the equation of a line in the $x,y$-plane, of the form\n",
        "$$y=mx+c\\quad \\text{ or }\\quad ax+by+c=0.$$ \n",
        "\n",
        "\n",
        "\n",
        "\n",
        "* We can also create a line given a point $(x_1,y_1)$ and a vector $\\vec{v}=v_{1}\\hat{\\imath}+v_{2}\\hat{\\jmath}$.\n",
        "\n",
        "\n",
        "\n",
        "\n",
        "* The equation of the line, in \\textbf{parameterised form} is given by\n",
        "$$\\vec{p}(t)=(x_0+v_1t)\\hat{\\imath}+(y_0+v_2t)\\hat{\\jmath}$$\n",
        "\n",
        "\n",
        "\n",
        "* This equation gives a vector $\\vec{p}(t)$, i.e. a vector which depends on $t$, passing through the point $(x_{0} , y_{0})$ along the direction of $\\vec{v}$.\n",
        "\n",
        "\n",
        "* Each value of $t$ correspond to a unique point along the line.\n",
        "\n",
        "\n",
        "* The parameter $t$ can be interpreted as time, and so the vector $p(t)$ is the line traced by a moving point starting at $(x_{0},y_{0})$ and moving in the direction of $\\vec{v}$.\n",
        "\n",
        "\n",
        "\n",
        "## Example 1\n",
        "\n",
        "* Plot the line traced by the point starting at $(1,3)$ moving in the direction of the vector $\\vec{v}=2\\hat{\\imath}+3\\hat{\\jmath}$.\n",
        "\n",
        "\n",
        "### Solution:\n",
        "\n",
        "First we create the vector to represent $\\vec{v}$ which we do using the function __V2()__\n"
      ]
    },
    {
      "cell_type": "code",
      "metadata": {
        "id": "h7jPgJfgYg7R"
      },
      "source": [
        "v1=2\n",
        "v2=3"
      ],
      "execution_count": null,
      "outputs": []
    },
    {
      "cell_type": "markdown",
      "metadata": {
        "id": "XfV6Eygcfnia"
      },
      "source": [
        "* Next we create the coordinate $x_{0}$ and $y_{0}$"
      ]
    },
    {
      "cell_type": "code",
      "metadata": {
        "id": "NpXXSjbufmjf"
      },
      "source": [
        "x0=1\n",
        "y0=3"
      ],
      "execution_count": null,
      "outputs": []
    },
    {
      "cell_type": "code",
      "metadata": {
        "id": "J6hWzkCehvAH",
        "outputId": "98336684-7b61-4df7-bfbc-1d4132f1fe79",
        "colab": {
          "base_uri": "https://localhost:8080/",
          "height": 314,
          "referenced_widgets": [
            "b32ecb14f2634e5aa390927c2e9ea0ed",
            "c71bf73f21a3455eb0ebe366b21b48b0",
            "04928e1cae5942d59d731494a03a8ec3",
            "6353e82427aa4c8781b8751ebf9ede6a",
            "3ee4c47012df45e8a55ffb5337b97b67",
            "9a3f996b34e94ed49329822312957e15",
            "0f6b6f31bde449888246f0b644c01464"
          ]
        }
      },
      "source": [
        "t=widgets.FloatSlider(min=-5,max=5,value=0.0,description='t') # Create a slider bar for the variable parameter t\n",
        "\n",
        "\n",
        "def update_vectors(t): # Updates the plot evertime we change t\n",
        "    plt.cla() # clears the old plot each time we change t\n",
        "    plt.xlabel(r'$X \\mathrm{/ m}$') # label of x-axis\n",
        "    plt.ylabel(r'$Y \\mathrm{/ m}$') # label =f y-axis\n",
        "    s=np.linspace(-5,5,501) # for plotting the line\n",
        "    plt.plot(x0+t*v1,y0+t*v2,'o',color='red') # plot a moving red dot\n",
        "    plt.plot(x0+s*v1,y0+s*v2,color='cornflowerblue') # plot the blue line traced by the moving dot \n",
        "    plt.quiver(x0,y0,v1,v2,angles='xy',scale_units='xy',scale=1) # plot the vector in the direction of the line\n",
        "    plt.xlim(-12,18) # change the x-limits of the figure\n",
        "    plt.ylim(-12,18) # change the y-loimits of the figure\n",
        "    plt.show() # show the graph\n",
        "widgets.interactive(update_vectors, t=t) # tell the figure to update each time the slider is changed"
      ],
      "execution_count": null,
      "outputs": [
        {
          "output_type": "display_data",
          "data": {
            "application/vnd.jupyter.widget-view+json": {
              "model_id": "b32ecb14f2634e5aa390927c2e9ea0ed",
              "version_minor": 0,
              "version_major": 2
            },
            "text/plain": [
              "interactive(children=(FloatSlider(value=0.0, description='t', max=5.0, min=-5.0), Output()), _dom_classes=('wi…"
            ]
          },
          "metadata": {
            "tags": []
          }
        }
      ]
    },
    {
      "cell_type": "markdown",
      "metadata": {
        "id": "rPDUmsyInBfn"
      },
      "source": [
        "## Exercise 1\n",
        "\n",
        "* Create a plot showing the moving point $\\vec{p}(t)$ along the paraeterised line starting at $(x_{0},y_{0})=(-1,4)$ moving in the direction $\\vec{v}=\\hat{\\imath}+3\\hat{\\jmath}$."
      ]
    },
    {
      "cell_type": "code",
      "metadata": {
        "id": "entb5ssrow_8"
      },
      "source": [
        ""
      ],
      "execution_count": null,
      "outputs": []
    },
    {
      "cell_type": "code",
      "metadata": {
        "id": "_Ph76Q9_oxLD"
      },
      "source": [
        ""
      ],
      "execution_count": null,
      "outputs": []
    },
    {
      "cell_type": "code",
      "metadata": {
        "id": "zlXW2WPJoxTn"
      },
      "source": [
        ""
      ],
      "execution_count": null,
      "outputs": []
    },
    {
      "cell_type": "code",
      "metadata": {
        "id": "jdSdrLrGoxbg"
      },
      "source": [
        ""
      ],
      "execution_count": null,
      "outputs": []
    },
    {
      "cell_type": "code",
      "metadata": {
        "id": "X5ajq-LMoxlJ"
      },
      "source": [
        ""
      ],
      "execution_count": null,
      "outputs": []
    },
    {
      "cell_type": "code",
      "metadata": {
        "id": "50eNN_K5oyms"
      },
      "source": [
        ""
      ],
      "execution_count": null,
      "outputs": []
    },
    {
      "cell_type": "markdown",
      "metadata": {
        "id": "foPuOSiYJp9E"
      },
      "source": [
        "# Perpendicular Vectors\n",
        "\n",
        "* We have already seen in lectures that if we are given a vector $\\vec{v}=v_{1}\\hat{\\imath}+v_{2}\\hat{\\jmath}$ then the vectors perpendicular to it are\n",
        "\n",
        "$$\\vec{v}^{\\perp}=-v_{2}\\hat{\\imath}+v_{1}\\hat{\\jmath}\\quad \\text{or}\\quad \\vec{v}^{\\perp}=v_{2}\\hat{\\imath}-v_{1}\\hat{\\jmath}.$$\n",
        "\n",
        "\n",
        "\n",
        "## Example 2\n",
        "\n",
        "* Given the vector $\\vec{v}=-2\\hat{\\imath}+5\\hat{\\jmath}$ find the vectors $\\vec{v}^{\\perp}$.\n",
        "\n",
        "* Draw all three plots using the __quiver()__ function"
      ]
    },
    {
      "cell_type": "code",
      "metadata": {
        "id": "tlWxQydMrlIy"
      },
      "source": [
        "V=V2(-2,5)"
      ],
      "execution_count": null,
      "outputs": []
    },
    {
      "cell_type": "markdown",
      "metadata": {
        "id": "gMXQCPL7rwRu"
      },
      "source": [
        "* The vectors $\\perp$ to $\\vec{v}$ are "
      ]
    },
    {
      "cell_type": "code",
      "metadata": {
        "id": "5RAegABJrlL_",
        "outputId": "ff436073-4169-4b8c-fe3a-0a6b85292de1",
        "colab": {
          "base_uri": "https://localhost:8080/",
          "height": 35
        }
      },
      "source": [
        "P1=V2(5,2)\n",
        "P2=V2(-5,-2)\n",
        "P1,P2"
      ],
      "execution_count": null,
      "outputs": [
        {
          "output_type": "execute_result",
          "data": {
            "text/plain": [
              "(array([5, 2]), array([-5, -2]))"
            ]
          },
          "metadata": {
            "tags": []
          },
          "execution_count": 35
        }
      ]
    },
    {
      "cell_type": "markdown",
      "metadata": {
        "id": "5fEm-MsFr14D"
      },
      "source": [
        "We will plot all three vectos at the same point $(0,0)$"
      ]
    },
    {
      "cell_type": "code",
      "metadata": {
        "id": "NFmlWgDmrlOa",
        "outputId": "d3dc745a-4384-48f0-b002-8f7c0ae2d593",
        "colab": {
          "base_uri": "https://localhost:8080/",
          "height": 410
        }
      },
      "source": [
        "plt.figure(figsize=(6,6))\n",
        "plt.quiver(0,0,V[0],V[1],angles='xy',scale_units='xy',scale=1,color='black')\n",
        "plt.quiver(0,0,P1[0],P1[1],angles='xy',scale_units='xy',scale=1,color='blue')\n",
        "plt.quiver(0,0,P2[0],P2[1],angles='xy',scale_units='xy',scale=1,color='red')\n",
        "plt.xlabel('x')\n",
        "plt.ylabel('y')\n",
        "plt.xlim(-6,6)\n",
        "plt.ylim(-6,6)"
      ],
      "execution_count": null,
      "outputs": [
        {
          "output_type": "execute_result",
          "data": {
            "text/plain": [
              "(-6.0, 6.0)"
            ]
          },
          "metadata": {
            "tags": []
          },
          "execution_count": 40
        },
        {
          "output_type": "display_data",
          "data": {
            "image/png": "[encoded data removed]",
            "text/plain": [
              "<Figure size 432x432 with 1 Axes>"
            ]
          },
          "metadata": {
            "tags": [],
            "needs_background": "light"
          }
        }
      ]
    },
    {
      "cell_type": "markdown",
      "metadata": {
        "id": "nZfnNDe_6YTT"
      },
      "source": [
        "## Exercise 2\n",
        "\n",
        "* Given the vector $\\vec{u}=-\\hat{\\imath}+4\\hat{\\jmath}$ find the two vectors $\\vec{u}^{\\perp}$ perpendicular to $\\vec{u}$.\n",
        "\n",
        "\n",
        "* Sketch all three vectors using the __quiver()__ function."
      ]
    },
    {
      "cell_type": "code",
      "metadata": {
        "id": "qEhclJA0rlRO"
      },
      "source": [
        "v1=3\n",
        "v2=2\n",
        "x0=-1\n",
        "y0=3"
      ],
      "execution_count": null,
      "outputs": []
    },
    {
      "cell_type": "code",
      "metadata": {
        "id": "v4NCnBN4rlTg",
        "outputId": "a9682fb1-d2b9-4f8b-d92f-ab44b882729e",
        "colab": {
          "base_uri": "https://localhost:8080/",
          "height": 410
        }
      },
      "source": [
        "plt.figure(figsize=(6,6))\n",
        "s=np.linspace(-5,5)\n",
        "plt.plot(x0+s*v1,y0+s*v2,color='darkslategray',alpha=0.75)\n",
        "plt.quiver(x0,y0,v1,v2,angles='xy',scale_units='xy',scale=1,color='black')\n",
        "plt.quiver(x0,y0,-v2,v2,angles='xy',scale_units='xy',scale=1,color='blue')\n",
        "\n",
        "plt.xlabel('x')\n",
        "plt.ylabel('y')\n",
        "plt.xlim(-6,6)\n",
        "plt.ylim(-2,8)"
      ],
      "execution_count": null,
      "outputs": [
        {
          "output_type": "execute_result",
          "data": {
            "text/plain": [
              "(-2.0, 8.0)"
            ]
          },
          "metadata": {
            "tags": []
          },
          "execution_count": 60
        },
        {
          "output_type": "display_data",
          "data": {
            "image/png": "[encoded data removed]",
            "text/plain": [
              "<Figure size 432x432 with 1 Axes>"
            ]
          },
          "metadata": {
            "tags": [],
            "needs_background": "light"
          }
        }
      ]
    },
    {
      "cell_type": "markdown",
      "metadata": {
        "id": "4POTROgsJqED"
      },
      "source": [
        ""
      ]
    },
    {
      "cell_type": "markdown",
      "metadata": {
        "id": "0If-5YCoJqG_"
      },
      "source": [
        ""
      ]
    },
    {
      "cell_type": "markdown",
      "metadata": {
        "id": "nGl27H_bJqNZ"
      },
      "source": [
        ""
      ]
    }
  ]
}