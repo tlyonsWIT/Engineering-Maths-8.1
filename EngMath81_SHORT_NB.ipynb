{
  "nbformat": 4,
  "nbformat_minor": 0,
  "metadata": {
    "colab": {
      "name": "EngMath81_SHORT_NB.ipynb",
      "provenance": [],
      "authorship_tag": "ABX9TyNqeEnz5SctwRNTX5SFIsmQ",
      "include_colab_link": true
    },
    "kernelspec": {
      "name": "python3",
      "display_name": "Python 3"
    }
  },
  "cells": [
    {
      "cell_type": "markdown",
      "metadata": {
        "id": "view-in-github",
        "colab_type": "text"
      },
      "source": [
        "<a href=\"https://colab.research.google.com/github/tlyonsWIT/Engineering-Maths-8.1/blob/master/EngMath81_SHORT_NB.ipynb\" target=\"_parent\"><img src=\"https://colab.research.google.com/assets/colab-badge.svg\" alt=\"Open In Colab\"/></a>"
      ]
    },
    {
      "cell_type": "code",
      "metadata": {
        "id": "tNmHOQ_XSKqH"
      },
      "source": [
        "# Import the relevant functions FIRST!!!!!!!\n",
        "\n",
        "import numpy as np\n",
        "from numpy import cos, sin, tan, exp, pi, log, sqrt \n",
        "import matplotlib.pyplot as plt\n",
        "from google.colab import files\n",
        "from cmath import polar"
      ],
      "execution_count": null,
      "outputs": []
    },
    {
      "cell_type": "markdown",
      "metadata": {
        "id": "IO-gIL1ySLYm"
      },
      "source": [
        "# Engineering Maths 8.1\n",
        "\n",
        "## Sample Notbeook for exams\n",
        "\n",
        "\n",
        "# 1 Plots\n",
        "\n",
        "#### Sample\n",
        "\n",
        "\n",
        "* Plot the function \n",
        "$$f(x) =e^{x}\\sin(\\pi x) +|x-3|$$\n",
        "\n",
        "on the interval $-1\\leq x \\leq 3$.\n",
        "\n",
        "Show the line $y=4$ and $x=2$ on the same plot."
      ]
    },
    {
      "cell_type": "code",
      "metadata": {
        "id": "6SGSbZa2SSK2"
      },
      "source": [
        "a=-1                                          # define the star point\n",
        "b=3                                           # define the end point\n",
        "N=100                                         # how manyt steps \n",
        "h=(b-a)/N                                     # step size\n",
        "x=np.arange(a,b+h,h)                          # set up the x values \n",
        "f=exp(x)*sin(pi*x)+abs(x-3)                   # define the function"
      ],
      "execution_count": null,
      "outputs": []
    },
    {
      "cell_type": "code",
      "metadata": {
        "colab": {
          "base_uri": "https://localhost:8080/",
          "height": 265
        },
        "id": "bLv88d0NTNmZ",
        "outputId": "17118599-3031-4833-a9dd-1ec86dfdbd70"
      },
      "source": [
        "plt.plot(x,f)                                 # plot the function\n",
        "plt.axvline(x=2)                              # plot the vertical line x=2\n",
        "plt.axhline(y=4)                              # plot the horizontal line y =4\n",
        "plt.savefig('FigName.pdf')                    # save the plot as a pdf file called FigName"
      ],
      "execution_count": null,
      "outputs": [
        {
          "output_type": "display_data",
          "data": {
            "image/png": "[encoded data removed]",
            "text/plain": [
              "<Figure size 432x288 with 1 Axes>"
            ]
          },
          "metadata": {
            "tags": [],
            "needs_background": "light"
          }
        }
      ]
    },
    {
      "cell_type": "code",
      "metadata": {
        "colab": {
          "base_uri": "https://localhost:8080/",
          "height": 17
        },
        "id": "FO0vUpegTPnI",
        "outputId": "4f01b253-728e-4e1c-e598-aeed155e5812"
      },
      "source": [
        "files.download('FigName.pdf')                 # Download the figure to your computer"
      ],
      "execution_count": null,
      "outputs": [
        {
          "output_type": "display_data",
          "data": {
            "application/javascript": [
              "\n",
              "    async function download(id, filename, size) {\n",
              "      if (!google.colab.kernel.accessAllowed) {\n",
              "        return;\n",
              "      }\n",
              "      const div = document.createElement('div');\n",
              "      const label = document.createElement('label');\n",
              "      label.textContent = `Downloading \"${filename}\": `;\n",
              "      div.appendChild(label);\n",
              "      const progress = document.createElement('progress');\n",
              "      progress.max = size;\n",
              "      div.appendChild(progress);\n",
              "      document.body.appendChild(div);\n",
              "\n",
              "      const buffers = [];\n",
              "      let downloaded = 0;\n",
              "\n",
              "      const channel = await google.colab.kernel.comms.open(id);\n",
              "      // Send a message to notify the kernel that we're ready.\n",
              "      channel.send({})\n",
              "\n",
              "      for await (const message of channel.messages) {\n",
              "        // Send a message to notify the kernel that we're ready.\n",
              "        channel.send({})\n",
              "        if (message.buffers) {\n",
              "          for (const buffer of message.buffers) {\n",
              "            buffers.push(buffer);\n",
              "            downloaded += buffer.byteLength;\n",
              "            progress.value = downloaded;\n",
              "          }\n",
              "        }\n",
              "      }\n",
              "      const blob = new Blob(buffers, {type: 'application/binary'});\n",
              "      const a = document.createElement('a');\n",
              "      a.href = window.URL.createObjectURL(blob);\n",
              "      a.download = filename;\n",
              "      div.appendChild(a);\n",
              "      a.click();\n",
              "      div.remove();\n",
              "    }\n",
              "  "
            ],
            "text/plain": [
              "<IPython.core.display.Javascript object>"
            ]
          },
          "metadata": {
            "tags": []
          }
        },
        {
          "output_type": "display_data",
          "data": {
            "application/javascript": [
              "download(\"download_b7b5f581-0d1b-4bff-ba7d-13a6d4511e9e\", \"FigName.pdf\", 6909)"
            ],
            "text/plain": [
              "<IPython.core.display.Javascript object>"
            ]
          },
          "metadata": {
            "tags": []
          }
        }
      ]
    },
    {
      "cell_type": "code",
      "metadata": {
        "id": "_yxWQVTAUeHj"
      },
      "source": [
        ""
      ],
      "execution_count": null,
      "outputs": []
    },
    {
      "cell_type": "markdown",
      "metadata": {
        "id": "-Wg8_0EuUuUY"
      },
      "source": [
        "# 2 Complex numbers\n",
        "\n",
        "\n",
        "### Example 1\n",
        "\n",
        "* Find the polar coordinates of the complex number\n",
        "$$z=-4.58-3.87j$$\n",
        "where $j=\\sqrt{1}$."
      ]
    },
    {
      "cell_type": "code",
      "metadata": {
        "colab": {
          "base_uri": "https://localhost:8080/"
        },
        "id": "RjDYAy-xVD7n",
        "outputId": "54ea3f47-9c44-4480-843b-ca10840cea99"
      },
      "source": [
        "z=-4.58-3.87j                                 # define the complex number\n",
        "z                                            # show the number"
      ],
      "execution_count": null,
      "outputs": [
        {
          "output_type": "execute_result",
          "data": {
            "text/plain": [
              "(-4.58-3.87j)"
            ]
          },
          "metadata": {
            "tags": []
          },
          "execution_count": 33
        }
      ]
    },
    {
      "cell_type": "code",
      "metadata": {
        "id": "powGIFa1VLOp"
      },
      "source": [
        "r,theta=polar(z)                             # find the polar coordinates of z"
      ],
      "execution_count": null,
      "outputs": []
    },
    {
      "cell_type": "code",
      "metadata": {
        "colab": {
          "base_uri": "https://localhost:8080/"
        },
        "id": "i1m6Y2AJVjKS",
        "outputId": "fa33c961-477a-4c98-bad5-e4edcdb3f8a5"
      },
      "source": [
        "r                                            # absolute value"
      ],
      "execution_count": null,
      "outputs": [
        {
          "output_type": "execute_result",
          "data": {
            "text/plain": [
              "5.9961070704249435"
            ]
          },
          "metadata": {
            "tags": []
          },
          "execution_count": 35
        }
      ]
    },
    {
      "cell_type": "code",
      "metadata": {
        "colab": {
          "base_uri": "https://localhost:8080/"
        },
        "id": "wefzJNHSWi_m",
        "outputId": "f306ab88-b10a-4f50-cd05-74a228aec2a2"
      },
      "source": [
        "theta                                        # argument in rad"
      ],
      "execution_count": null,
      "outputs": [
        {
          "output_type": "execute_result",
          "data": {
            "text/plain": [
              "-2.4400212571805246"
            ]
          },
          "metadata": {
            "tags": []
          },
          "execution_count": 36
        }
      ]
    },
    {
      "cell_type": "code",
      "metadata": {
        "colab": {
          "base_uri": "https://localhost:8080/"
        },
        "id": "R3felwfBWkK1",
        "outputId": "2f36e3dc-e338-4842-bd61-620436a72da0"
      },
      "source": [
        "np.degrees(theta)                            # argument in deg"
      ],
      "execution_count": null,
      "outputs": [
        {
          "output_type": "execute_result",
          "data": {
            "text/plain": [
              "-139.80291995864928"
            ]
          },
          "metadata": {
            "tags": []
          },
          "execution_count": 37
        }
      ]
    },
    {
      "cell_type": "code",
      "metadata": {
        "id": "t0L-Z9JXWqZ3"
      },
      "source": [
        ""
      ],
      "execution_count": null,
      "outputs": []
    }
  ]
}