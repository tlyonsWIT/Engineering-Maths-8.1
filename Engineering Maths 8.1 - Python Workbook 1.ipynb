{
  "nbformat": 4,
  "nbformat_minor": 0,
  "metadata": {
    "kernelspec": {
      "display_name": "Python 3",
      "language": "python",
      "name": "python3"
    },
    "language_info": {
      "codemirror_mode": {
        "name": "ipython",
        "version": 3
      },
      "file_extension": ".py",
      "mimetype": "text/x-python",
      "name": "python",
      "nbconvert_exporter": "python",
      "pygments_lexer": "ipython3",
      "version": "3.6.9"
    },
    "colab": {
      "name": "Engineering Maths 8.1 - Python Workbook 1.ipynb",
      "provenance": []
    }
  },
  "cells": [
    {
      "cell_type": "markdown",
      "metadata": {
        "id": "v_12C6brlfBA"
      },
      "source": [
        "# Engineering Maths 8.1 - 2020\n",
        "\n",
        "## Vector Algebra Using Python\n",
        "\n",
        "\n",
        "* As with all python workbooks, the first thing we have to do is import all the required.\n",
        "\n",
        "\n",
        "\n",
        "* The main library we need for this workbook is the __Num__erical __Py__thon (__numpy__) library.\n",
        "\n",
        "\n",
        "* To run the code cell below, click on thes cell and press __SHIFT+ENTER.__"
      ]
    },
    {
      "cell_type": "code",
      "metadata": {
        "id": "1N3EX2WGlfBE"
      },
      "source": [
        "import numpy as np # np is an abbraviation we give to the library, \n",
        "                   # so we don't have to type numpy every time we want to \n",
        "                   # call a function from the library "
      ],
      "execution_count": 1,
      "outputs": []
    },
    {
      "cell_type": "markdown",
      "metadata": {
        "id": "Lrz74CFalfBf"
      },
      "source": [
        "# Creating 2D vectors with Python\n",
        "\n",
        "\n",
        "* As we saw in lectures, a 2D vector $\\vec{v}=v_{1}\\hat{\\imath}+v_{2}\\hat{\\jmath}$ can be written as an __array__ of the form \n",
        "\n",
        "$$\\vec{v}=\\begin{bmatrix}v_{1}\\\\ v_{2}\\end{bmatrix} \\text{ or }\\vec{v}=\\begin{bmatrix}v_1&v_{2}\\end{bmatrix}.$$\n",
        "\n",
        "\n",
        "* This vector can be created numericall using the numpy function __np.array([v1,v2])__. We need the __np__ out in front to indicate the __array([,])__ function comes from the __numpy__ library.\n",
        "\n",
        "\n",
        "## Example 1: \n",
        "\n",
        "* Use __np.array([])__ to create numercal vecotrs for\n",
        "\n",
        "$$\\vec{A}=-4.2\\hat{\\imath}+6.7\\hat{\\jmath}\\quad\\vec{B}=3.8\\hat{\\imath}+6.1\\hat{\\jmath}\\quad \n",
        "\\vec{C}=1.7\\hat{\\imath}-8.4\\hat{\\jmath}.$$"
      ]
    },
    {
      "cell_type": "code",
      "metadata": {
        "id": "YCSLGbnSlfBh",
        "outputId": "887c2aef-1fc3-4812-d946-dcbb6f5b229a",
        "colab": {
          "base_uri": "https://localhost:8080/",
          "height": 34
        }
      },
      "source": [
        "A=np.array([-4.2,6.7]) # Be carfule with brackets when using array, note the double brackets np.array([,])\n",
        "A"
      ],
      "execution_count": 2,
      "outputs": [
        {
          "output_type": "execute_result",
          "data": {
            "text/plain": [
              "array([-4.2,  6.7])"
            ]
          },
          "metadata": {
            "tags": []
          },
          "execution_count": 2
        }
      ]
    },
    {
      "cell_type": "markdown",
      "metadata": {
        "id": "v1Sb5fc7lfBq"
      },
      "source": [
        "## A function for creating vectors\n",
        "\n",
        "* If we need the create a lot of vectors, we would like to avoid writing our __np.array([])__ for each one.\n",
        "\n",
        "\n",
        "* We can make things a litle more efficient by creating a function that will create a 2D vector with components $v_1$ and $v_2$.\n",
        "\n",
        "\n",
        "* We do this in the cell below:"
      ]
    },
    {
      "cell_type": "code",
      "metadata": {
        "id": "4SACPYrrlfBs"
      },
      "source": [
        "def V2(x1,x2):# x1 & x2 are place holders for the compenents we want to create. We can replace these with anything we want.\n",
        "    return np.array([x1,x2]) # We name the function V2() to indicate it is a vector in 2D."
      ],
      "execution_count": 3,
      "outputs": []
    },
    {
      "cell_type": "code",
      "metadata": {
        "id": "ZbHb-kF5lfB0",
        "outputId": "f2487da0-e2f8-4b42-92c9-241a2b6772fb",
        "colab": {
          "base_uri": "https://localhost:8080/",
          "height": 34
        }
      },
      "source": [
        "B=V2(3.8,6.1)\n",
        "B"
      ],
      "execution_count": 4,
      "outputs": [
        {
          "output_type": "execute_result",
          "data": {
            "text/plain": [
              "array([3.8, 6.1])"
            ]
          },
          "metadata": {
            "tags": []
          },
          "execution_count": 4
        }
      ]
    },
    {
      "cell_type": "code",
      "metadata": {
        "id": "Vy3aT22ulfB9",
        "outputId": "768aae86-58ac-4893-d0ba-df8cb4faad53",
        "colab": {
          "base_uri": "https://localhost:8080/",
          "height": 34
        }
      },
      "source": [
        "C=V2(1.7,-8.4)\n",
        "C"
      ],
      "execution_count": 5,
      "outputs": [
        {
          "output_type": "execute_result",
          "data": {
            "text/plain": [
              "array([ 1.7, -8.4])"
            ]
          },
          "metadata": {
            "tags": []
          },
          "execution_count": 5
        }
      ]
    },
    {
      "cell_type": "markdown",
      "metadata": {
        "id": "OKLEvJRTlfCK"
      },
      "source": [
        "### Vector algebra in 2D.\n",
        "\n",
        "\n",
        "* Now that we have created numerical cetors in 2D, we can perfom all the familiar operatins of vector algebra, like addition, subtraction, scalar multiplication.\n",
        "\n",
        "\n",
        "* For now, we will do the following:\n",
        "\n",
        "__1.__ Find $$3.5\\vec{A}-7.8\\vec{B}$$\n",
        "\n",
        "__2.__ Find $$4.2\\vec{A}+4.8\\vec{C}$$\n",
        "\n",
        "__3.__ Find $$-1.9\\vec{B}+7.8\\vec{C}$$\n",
        "\n",
        "__4.__ Find $$2.5\\vec{A}-4.3\\vec{B}+6.2\\vec{C}$$\n",
        "\n",
        "\n",
        "#### Solution:\n",
        "\n",
        " * Finding these vectors is almost identical to the way you would carry it out using pen & paper. \n",
        " \n",
        " \n",
        " * The only the we must be __careful__ about is using __*__  everytime we have multiplication between a scalar and a vector. "
      ]
    },
    {
      "cell_type": "code",
      "metadata": {
        "id": "rbx4zLm_lfCM",
        "outputId": "06abad04-fde5-4698-ff46-d6b5687990a3",
        "colab": {
          "base_uri": "https://localhost:8080/",
          "height": 34
        }
      },
      "source": [
        "3.5*A-7.8*B # Notice the * for multiplication each time!!"
      ],
      "execution_count": 6,
      "outputs": [
        {
          "output_type": "execute_result",
          "data": {
            "text/plain": [
              "array([-44.34, -24.13])"
            ]
          },
          "metadata": {
            "tags": []
          },
          "execution_count": 6
        }
      ]
    },
    {
      "cell_type": "code",
      "metadata": {
        "id": "GqCwUH8KlfCT",
        "outputId": "083dc77f-d0ce-4586-8484-d2a6cf4236e0",
        "colab": {
          "base_uri": "https://localhost:8080/",
          "height": 34
        }
      },
      "source": [
        "-1.9*B+7.8*C"
      ],
      "execution_count": 7,
      "outputs": [
        {
          "output_type": "execute_result",
          "data": {
            "text/plain": [
              "array([  6.04, -77.11])"
            ]
          },
          "metadata": {
            "tags": []
          },
          "execution_count": 7
        }
      ]
    },
    {
      "cell_type": "code",
      "metadata": {
        "id": "xDrUGLC8lfCY",
        "outputId": "09083b70-c9a6-4ede-d2ca-4070e4899673",
        "colab": {
          "base_uri": "https://localhost:8080/",
          "height": 34
        }
      },
      "source": [
        "2.5*A-4.3*B+6.2*C"
      ],
      "execution_count": 8,
      "outputs": [
        {
          "output_type": "execute_result",
          "data": {
            "text/plain": [
              "array([-16.3 , -61.56])"
            ]
          },
          "metadata": {
            "tags": []
          },
          "execution_count": 8
        }
      ]
    },
    {
      "cell_type": "markdown",
      "metadata": {
        "id": "xVK0lIgClfCq"
      },
      "source": [
        "## Exercise 1\n",
        "\n",
        "\n",
        "__1.__ Create numerical arays to represent the vectors \n",
        "\n",
        "$$\\vec{U}=-1.4\\hat{\\imath}+4.2\\hat{\\jmath},\\quad \\vec{V}=7.6\\hat{\\imath}+5.5\\hat{\\jmath}, \\quad \\vec{W}=2.7\\hat{\\imath}-3.2\\hat{\\jmath},\\quad \\vec{X}=-3.4\\hat{\\imath}-5.2\\hat{\\jmath}.$$\n",
        "\n",
        "\n",
        "__2.__ Using these numerical vectors, find each of the following:\n",
        "    \n",
        "__2 (i)__ $$4.5\\vec{U}-7.3\\vec{W}$$\n",
        "\n",
        "\n",
        "__2 (ii)__ $$-1.5\\vec{W}+3.3\\vec{X}$$\n",
        "\n",
        "\n",
        "__2 (iii)__ $$-3.1\\vec{U}-7.3\\vec{W}-8.9\\vec{V}$$\n",
        "\n",
        "\n",
        "__2 (iv)__ $$425\\vec{V}-6.4\\vec{W}+11.2\\vec{X}$$\n",
        "\n",
        "\n",
        "__2 (v)__ $$6.5\\vec{X}-5.1\\vec{W}+3.4\\vec{V}+6.6\\vec{U}$$"
      ]
    },
    {
      "cell_type": "code",
      "metadata": {
        "id": "gMa5B-uulfCr"
      },
      "source": [
        ""
      ],
      "execution_count": null,
      "outputs": []
    },
    {
      "cell_type": "code",
      "metadata": {
        "id": "MyRbL-TJlfCy"
      },
      "source": [
        ""
      ],
      "execution_count": null,
      "outputs": []
    },
    {
      "cell_type": "code",
      "metadata": {
        "id": "GzUkGWH5lfC5"
      },
      "source": [
        ""
      ],
      "execution_count": null,
      "outputs": []
    },
    {
      "cell_type": "code",
      "metadata": {
        "id": "QU0UuiTzlfC-"
      },
      "source": [
        ""
      ],
      "execution_count": null,
      "outputs": []
    },
    {
      "cell_type": "code",
      "metadata": {
        "id": "bPZw8CxClfDD"
      },
      "source": [
        ""
      ],
      "execution_count": null,
      "outputs": []
    },
    {
      "cell_type": "code",
      "metadata": {
        "id": "-bHl1qyDlyWF"
      },
      "source": [
        ""
      ],
      "execution_count": null,
      "outputs": []
    },
    {
      "cell_type": "code",
      "metadata": {
        "id": "teMHo3-tlfEP"
      },
      "source": [
        ""
      ],
      "execution_count": null,
      "outputs": []
    },
    {
      "cell_type": "markdown",
      "metadata": {
        "id": "ZtuJIZt0l4uD"
      },
      "source": [
        "# The Dot Product\n",
        "\n",
        "* We have seen during lectures that the dot product of the vectors \n",
        "$\\vec{u}=u_{1}\\hat{\\imath}+u_2\\hat{\\jmath}$  and \n",
        "$\\vec{u}=u_{1}\\hat{\\imath}+u_2\\hat{\\jmath}$  \n",
        "is given by:\n",
        "\n",
        "$$\n",
        "\\vec{u}\\cdot \\vec{v}=\\left(u_{1}\\hat{\\imath}+u_{2}\\hat{\\jmath}\\right)\\cdot\\left(v_{1}\\hat{\\imath}+v_2\\hat{\\jmath}\\right)=u_1v_2+u_2v_2.\n",
        "$$\n",
        "\n",
        "\n",
        "* When we multiply two arrays __of the same length__ in Python, it perfoms this operation __entrywise__, i.e. the first entry is multiplied by the first entry and so on...\n",
        "\n",
        "\n",
        "*italicized text*\n",
        "\n",
        "## Example 2\n",
        "\n",
        "* Multiply the two arrays \n",
        "\n",
        "$$P=[1,2]\\quad Q=[3,4]$$\n",
        "\n",
        "* We use such simple numbers just to make it easier to see."
      ]
    },
    {
      "cell_type": "code",
      "metadata": {
        "id": "FffVrYG-mqqi",
        "outputId": "ce2a6a44-7449-4e0b-8a34-02c5937a040d",
        "colab": {
          "base_uri": "https://localhost:8080/",
          "height": 34
        }
      },
      "source": [
        "P=V2(1,2)\n",
        "Q=V2(3,4)\n",
        "P,Q"
      ],
      "execution_count": 9,
      "outputs": [
        {
          "output_type": "execute_result",
          "data": {
            "text/plain": [
              "(array([1, 2]), array([3, 4]))"
            ]
          },
          "metadata": {
            "tags": []
          },
          "execution_count": 9
        }
      ]
    },
    {
      "cell_type": "code",
      "metadata": {
        "id": "OaQKEMP-oN6o",
        "outputId": "dcf37f03-9ca0-42e5-b9c6-49f6855308ce",
        "colab": {
          "base_uri": "https://localhost:8080/",
          "height": 34
        }
      },
      "source": [
        "P*Q # We still need * for multiplication, even with arrays!!"
      ],
      "execution_count": 10,
      "outputs": [
        {
          "output_type": "execute_result",
          "data": {
            "text/plain": [
              "array([3, 8])"
            ]
          },
          "metadata": {
            "tags": []
          },
          "execution_count": 10
        }
      ]
    },
    {
      "cell_type": "code",
      "metadata": {
        "id": "v8KVd0sfoTWD"
      },
      "source": [
        ""
      ],
      "execution_count": null,
      "outputs": []
    },
    {
      "cell_type": "markdown",
      "metadata": {
        "id": "kzCTXZ8ZoVIp"
      },
      "source": [
        "* So we see that  **P\\*Q=[1,2]\\*[3,4]=[1\\*3,2\\*4]=[3,8]**, so the multiplication is performd entry by entry.\n",
        "\n",
        "\n",
        "\n",
        "* Going back to vectors, we see that the dot product of the vectors \n",
        "$$\\vec{P}=1\\hat{\\imath}+2\\hat{\\jmath}\\text{ and }\\vec{Q}=3\\hat{\\imath}+4\\hat{\\jmath}\\\\$$\n",
        "is given by\n",
        "$$\\\\ \\vec{P}\\cdot\\vec{Q}=(1)(3)+(2)(4)=3+8=11.$$\n",
        "\n",
        "\n",
        "\n",
        "* Hence, just by multiplying the arrays __P__ and __Q__, we are half way to the dot product, all we have to do is add up the entries of the array __P*Q__ to get the dot product.\n",
        "\n",
        "\n",
        "* This can be done with the function __sum()__, which just adds up all the entries of an array (of any length)."
      ]
    },
    {
      "cell_type": "code",
      "metadata": {
        "id": "c4FWTOChpgjO",
        "outputId": "b3b71330-5857-4173-8c34-8105bd90dc19",
        "colab": {
          "base_uri": "https://localhost:8080/",
          "height": 34
        }
      },
      "source": [
        "sum(P*Q)"
      ],
      "execution_count": 11,
      "outputs": [
        {
          "output_type": "execute_result",
          "data": {
            "text/plain": [
              "11"
            ]
          },
          "metadata": {
            "tags": []
          },
          "execution_count": 11
        }
      ]
    },
    {
      "cell_type": "markdown",
      "metadata": {
        "id": "AGOMbHs9qSEe"
      },
      "source": [
        "## A function for the dot product:\n",
        "\n",
        "* We can even create another function to automate this for us"
      ]
    },
    {
      "cell_type": "code",
      "metadata": {
        "id": "GysbGd-BqHbj"
      },
      "source": [
        "def Dot(U,V):\n",
        "  return sum(U*V) # U & V here are just place holder names, not actual arrays   "
      ],
      "execution_count": 12,
      "outputs": []
    },
    {
      "cell_type": "markdown",
      "metadata": {
        "id": "MEREOFyOqv-u"
      },
      "source": [
        "* This function can be used for arrays of any length, so it can be used to take a dot product in 2D, 3D, 4D,..."
      ]
    },
    {
      "cell_type": "markdown",
      "metadata": {
        "id": "QU2Lsh_orZsH"
      },
      "source": [
        "## Example 3\n",
        "\n",
        "* Find the dot product of the vectors\n",
        "\n",
        "$$1.2\\vec{A}-4.5\\vec{C} \\text{ and }4.3\\vec{B}+1.3\\vec{A}$$\n",
        "\n",
        "\n",
        "### Solution\n",
        "\n",
        "\n",
        "* In this case, we do not need to even find the individual vectors $1.2\\vec{A}$ etc, and since we have already defined arrays __A__, __B__ and __C__ to represent $\\vec{A}$, $\\vec{B}$ and $\\vec{C}$, most of the work is already done!!\n",
        "\n",
        "\n",
        "* All we have to do is:"
      ]
    },
    {
      "cell_type": "code",
      "metadata": {
        "id": "nufmFVs1rXsn",
        "outputId": "7c522d33-3097-47d4-a959-9ab05b596085",
        "colab": {
          "base_uri": "https://localhost:8080/",
          "height": 34
        }
      },
      "source": [
        "Dot(1.2*A-4.5*C, 4.3*B+1.3*A)"
      ],
      "execution_count": 14,
      "outputs": [
        {
          "output_type": "execute_result",
          "data": {
            "text/plain": [
              "1463.5824"
            ]
          },
          "metadata": {
            "tags": []
          },
          "execution_count": 14
        }
      ]
    },
    {
      "cell_type": "code",
      "metadata": {
        "id": "vXY3V4-5sMK3"
      },
      "source": [
        ""
      ],
      "execution_count": null,
      "outputs": []
    },
    {
      "cell_type": "markdown",
      "metadata": {
        "id": "FKBJAGzusSQ3"
      },
      "source": [
        "# The norm of a vector\n",
        "\n",
        "* Given the vector $\\vec{u}=u_1\\hat{\\imath}+u_2\\hat{\\jmath}$, we see that its norm can be wrriten as\n",
        "\n",
        "$$\\left\\Vert\\vec{u}\\right\\Vert=\\sqrt{u_1^2+u_2^2}=\\sqrt{\\vec{u}\\cdot\\vec{u}}.$$\n",
        "\n",
        "\n",
        "* So now we can use this to create a function to find the __norm__ of a vector:\n"
      ]
    },
    {
      "cell_type": "code",
      "metadata": {
        "id": "5SL-Sz7mtGBG"
      },
      "source": [
        "def norm(U):\n",
        "  return np.sqrt(Dot(U,U))"
      ],
      "execution_count": 16,
      "outputs": []
    },
    {
      "cell_type": "markdown",
      "metadata": {
        "id": "lWFOQ0E1tQyU"
      },
      "source": [
        "* Here we have used the __Dot(,)__ function we created earlier to take the dot product of the array __U__ with itself.\n",
        "\n",
        "\n",
        "* We also use the __numpy__ function __sqrt()__, the __np__ in front is to indicate that it is called from the __numpy__ library.\n",
        "\n",
        "\n",
        "## Example 3\n",
        "\n",
        "* Find the norm  of each of the vectors\n",
        "\n",
        "$$1.2\\vec{A}-4.5\\vec{C} \\text{ and }4.3\\vec{B}+1.3\\vec{A}$$\n",
        "\n",
        "\n",
        "### Solution, again, most of the work is done for us, so all we have to do is:"
      ]
    },
    {
      "cell_type": "code",
      "metadata": {
        "id": "hcUq3MFYtlzP",
        "outputId": "e3cdab03-e177-4fe9-f918-7acbfe890dfd",
        "colab": {
          "base_uri": "https://localhost:8080/",
          "height": 34
        }
      },
      "source": [
        "norm(1.2*A-4.5*C)"
      ],
      "execution_count": 17,
      "outputs": [
        {
          "output_type": "execute_result",
          "data": {
            "text/plain": [
              "47.564079934337"
            ]
          },
          "metadata": {
            "tags": []
          },
          "execution_count": 17
        }
      ]
    },
    {
      "cell_type": "code",
      "metadata": {
        "id": "Nt9Xcfkrt587",
        "outputId": "b16b92d2-fe06-49f6-c99b-4fbebf9ece7a",
        "colab": {
          "base_uri": "https://localhost:8080/",
          "height": 34
        }
      },
      "source": [
        "norm(4.3*B+1.3*A)"
      ],
      "execution_count": 18,
      "outputs": [
        {
          "output_type": "execute_result",
          "data": {
            "text/plain": [
              "36.59478104866867"
            ]
          },
          "metadata": {
            "tags": []
          },
          "execution_count": 18
        }
      ]
    },
    {
      "cell_type": "code",
      "metadata": {
        "id": "RtIiXipdt_wx"
      },
      "source": [
        ""
      ],
      "execution_count": null,
      "outputs": []
    },
    {
      "cell_type": "markdown",
      "metadata": {
        "id": "ssNVCMYMuB_n"
      },
      "source": [
        "## Exercise 2\n",
        "\n",
        "* Find the norm of __all 9__ vectors in __Exercise 1__."
      ]
    },
    {
      "cell_type": "code",
      "metadata": {
        "id": "qfMpgfhYuOY1"
      },
      "source": [
        ""
      ],
      "execution_count": 18,
      "outputs": []
    },
    {
      "cell_type": "code",
      "metadata": {
        "id": "aipxP15wuTSW"
      },
      "source": [
        ""
      ],
      "execution_count": null,
      "outputs": []
    },
    {
      "cell_type": "code",
      "metadata": {
        "id": "ZGa8qJ1AuTU9"
      },
      "source": [
        ""
      ],
      "execution_count": null,
      "outputs": []
    },
    {
      "cell_type": "code",
      "metadata": {
        "id": "8pcNsI21uTX9"
      },
      "source": [
        ""
      ],
      "execution_count": null,
      "outputs": []
    },
    {
      "cell_type": "code",
      "metadata": {
        "id": "KG_uKk4-uTdi"
      },
      "source": [
        ""
      ],
      "execution_count": null,
      "outputs": []
    },
    {
      "cell_type": "code",
      "metadata": {
        "id": "NeTFdnOFuTgJ"
      },
      "source": [
        ""
      ],
      "execution_count": null,
      "outputs": []
    },
    {
      "cell_type": "code",
      "metadata": {
        "id": "CA6uBqKguTik"
      },
      "source": [
        ""
      ],
      "execution_count": null,
      "outputs": []
    },
    {
      "cell_type": "code",
      "metadata": {
        "id": "PC4pgMAKuTlN"
      },
      "source": [
        ""
      ],
      "execution_count": null,
      "outputs": []
    },
    {
      "cell_type": "code",
      "metadata": {
        "id": "ENvqmupWuTnl"
      },
      "source": [
        ""
      ],
      "execution_count": null,
      "outputs": []
    },
    {
      "cell_type": "code",
      "metadata": {
        "id": "S2RWcXcjuTqn"
      },
      "source": [
        ""
      ],
      "execution_count": null,
      "outputs": []
    },
    {
      "cell_type": "code",
      "metadata": {
        "id": "Z6hWw1SquT92"
      },
      "source": [
        ""
      ],
      "execution_count": null,
      "outputs": []
    },
    {
      "cell_type": "code",
      "metadata": {
        "id": "modEB1o9uUAc"
      },
      "source": [
        ""
      ],
      "execution_count": null,
      "outputs": []
    },
    {
      "cell_type": "code",
      "metadata": {
        "id": "_aYY7gHsue_0"
      },
      "source": [
        ""
      ],
      "execution_count": null,
      "outputs": []
    }
  ]
}