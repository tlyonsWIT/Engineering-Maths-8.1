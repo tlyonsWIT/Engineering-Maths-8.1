{
 "cells": [
  {
   "cell_type": "markdown",
   "metadata": {},
   "source": [
    "# Engineering Maths 8.1 - 2020\n",
    "\n",
    "## Vector Algebra Using Python\n",
    "\n",
    "\n",
    "* As with all python workbooks, the first thing we have to do is import all the required.\n",
    "\n",
    "\n",
    "\n",
    "* The main library we need for this workbook is the __Num__erical __Py__thon (__numpy__) library.\n",
    "\n",
    "\n",
    "* To run the code cell below, click on thes cell and press __SHIFT+ENTER.__"
   ]
  },
  {
   "cell_type": "code",
   "execution_count": 50,
   "metadata": {},
   "outputs": [],
   "source": [
    "import numpy as np # np is an abbraviation we give to the library, \n",
    "                   # so we don't have to type numpy every time we want to \n",
    "                   # call a function from the library "
   ]
  },
  {
   "cell_type": "markdown",
   "metadata": {},
   "source": [
    "* The next library we want for this workbook is the __matplotlib.pyplot__ library for plotting in 2D."
   ]
  },
  {
   "cell_type": "code",
   "execution_count": 51,
   "metadata": {},
   "outputs": [],
   "source": [
    "import matplotlib.pyplot as plt # plt is another abbreviation "
   ]
  },
  {
   "cell_type": "markdown",
   "metadata": {},
   "source": [
    "# Creating 2D vectors with Python\n",
    "\n",
    "\n",
    "* As we saw in lectures, a 2D vector $\\vec{v}=v_{1}\\hat{\\imath}+v_{2}\\hat{\\jmath}$ can be written as an __array__ of the form \n",
    "\n",
    "$$\\vec{v}=\\begin{bmatrix}v_{1}\\\\ v_{2}\\end{bmatrix} \\text{ or }\\vec{v}=\\begin{bmatrix}v_1&v_{2}\\end{bmatrix}.$$\n",
    "\n",
    "\n",
    "* This vector can be created numericall using the numpy function __np.array([v1,v2])__. We need the __np__ out in front to indicate the __array([,])__ function comes from the __numpy__ library.\n",
    "\n",
    "\n",
    "## Example 1: \n",
    "\n",
    "* Use __np.array([])__ to create numercal vecotrs for\n",
    "\n",
    "$$\\vec{A}=-4.2\\hat{\\imath}+6.7\\hat{\\jmath}\\quad\\vec{B}=3.8\\hat{\\imath}+6.1\\hat{\\jmath}\\quad \n",
    "\\vec{C}=1.7\\hat{\\imath}-8.4\\hat{\\jmath}.$$"
   ]
  },
  {
   "cell_type": "code",
   "execution_count": 69,
   "metadata": {},
   "outputs": [
    {
     "data": {
      "text/plain": [
       "array([-4.2,  6.7])"
      ]
     },
     "execution_count": 69,
     "metadata": {},
     "output_type": "execute_result"
    }
   ],
   "source": [
    "A=np.array([-4.2,6.7]) # Be carfule with brackets when using array, note the double brackets np.array([,])\n",
    "A"
   ]
  },
  {
   "cell_type": "markdown",
   "metadata": {},
   "source": [
    "## A function for creating vectors\n",
    "\n",
    "* If we need the create a lot of vectors, we would like to avoid writing our __np.array([])__ for each one.\n",
    "\n",
    "\n",
    "* We can make things a litle more efficient by creating a function that will create a 2D vector with components $v_1$ and $v2$.\n",
    "\n",
    "\n",
    "* We do this in the cell below:"
   ]
  },
  {
   "cell_type": "code",
   "execution_count": 67,
   "metadata": {},
   "outputs": [],
   "source": [
    "def V2(x1,x2):# x1 & x2 are place holders for the compenents we want to create. We can replace these with anything we want.\n",
    "    return np.array([x1,x2]) # We name the function V2() to indicate it is a vector in 2D."
   ]
  },
  {
   "cell_type": "code",
   "execution_count": 68,
   "metadata": {},
   "outputs": [
    {
     "data": {
      "text/plain": [
       "array([3.8, 6.1])"
      ]
     },
     "execution_count": 68,
     "metadata": {},
     "output_type": "execute_result"
    }
   ],
   "source": [
    "B=V2(3.8,6.1)\n",
    "B"
   ]
  },
  {
   "cell_type": "code",
   "execution_count": 59,
   "metadata": {},
   "outputs": [
    {
     "data": {
      "text/plain": [
       "array([ 1.7, -8.4])"
      ]
     },
     "execution_count": 59,
     "metadata": {},
     "output_type": "execute_result"
    }
   ],
   "source": [
    "C=V2(1.7,-8.4)\n",
    "C"
   ]
  },
  {
   "cell_type": "code",
   "execution_count": 62,
   "metadata": {},
   "outputs": [
    {
     "data": {
      "text/plain": [
       "-63.42"
      ]
     },
     "execution_count": 62,
     "metadata": {},
     "output_type": "execute_result"
    }
   ],
   "source": [
    "A.dot(C)"
   ]
  },
  {
   "cell_type": "markdown",
   "metadata": {},
   "source": [
    "### Vector algebra in 2D.\n",
    "\n",
    "\n",
    "* Now that we have created numerical cetors in 2D, we can perfom all the familiar operatins of vector algebra, like addition, subtraction, scalar multiplication.\n",
    "\n",
    "\n",
    "* For now, we will do the following:\n",
    "\n",
    "__1.__ Find $$3.5\\vec{A}-7.8\\vec{B}$$\n",
    "\n",
    "__2.__ Find $$4.2\\vec{A}+4.8\\vec{C}$$\n",
    "\n",
    "__3.__ Find $$-1.9\\vec{B}+7.8\\vec{C}$$\n",
    "\n",
    "__4.__ Find $$2.5\\vec{A}-4.3\\vec{B}+6.2\\vec{C}$$\n",
    "\n",
    "\n",
    "#### Solution:\n",
    "\n",
    " * Finding these vectors is almost identical to the way you would carry it out using pen & paper. \n",
    " \n",
    " \n",
    " * The only the we must be __careful__ about is using __*__  everytime we have multiplication between a scalar and a vector. "
   ]
  },
  {
   "cell_type": "code",
   "execution_count": 86,
   "metadata": {},
   "outputs": [
    {
     "data": {
      "text/plain": [
       "array([-44.34, -24.13])"
      ]
     },
     "execution_count": 86,
     "metadata": {},
     "output_type": "execute_result"
    }
   ],
   "source": [
    "3.5*A-7.8*B # Notice the * for multiplication each time!!"
   ]
  },
  {
   "cell_type": "code",
   "execution_count": 64,
   "metadata": {},
   "outputs": [
    {
     "data": {
      "text/plain": [
       "array([  6.04, -77.11])"
      ]
     },
     "execution_count": 64,
     "metadata": {},
     "output_type": "execute_result"
    }
   ],
   "source": [
    "-1.9*B+7.8*C"
   ]
  },
  {
   "cell_type": "code",
   "execution_count": 65,
   "metadata": {},
   "outputs": [
    {
     "data": {
      "text/plain": [
       "array([-16.3 , -61.56])"
      ]
     },
     "execution_count": 65,
     "metadata": {},
     "output_type": "execute_result"
    }
   ],
   "source": [
    "2.5*A-4.3*B+6.2*C"
   ]
  },
  {
   "cell_type": "markdown",
   "metadata": {},
   "source": [
    "## Exercise 1\n",
    "\n",
    "\n",
    "__1.__ Create numerical arays to represent the vectors \n",
    "\n",
    "$$\\vec{U}=-1.4\\hat{\\imath}+4.2\\hat{\\jmath},\\quad \\vec{V}=7.6\\hat{\\imath}+5.5\\hat{\\jmath}, \\quad \\vec{W}=2.7\\hat{\\imath}-3.2\\hat{\\jmath},\\quad \\vec{X}=-3.4\\hat{\\imath}-5.2\\hat{\\jmath}.$$\n",
    "\n",
    "\n",
    "__2.__ Using these numerical vectors, find each of the following:\n",
    "    \n",
    "__2 (i)__ $$4.5\\vec{U}-7.3\\vec{W}$$\n",
    "\n",
    "\n",
    "__2 (ii)__ $$-1.5\\vec{W}+3.3\\vec{X}$$\n",
    "\n",
    "\n",
    "__2 (iii)__ $$-3.1\\vec{U}-7.3\\vec{W}-8.9\\vec{V}$$\n",
    "\n",
    "\n",
    "__2 (iv)__ $$425\\vec{V}-6.4\\vec{W}+11.2\\vec{X}$$\n",
    "\n",
    "\n",
    "__2 (v)__ $$6.5\\vec{X}-5.1\\vec{W}+3.4\\vec{V}+6.6\\vec{U}$$"
   ]
  },
  {
   "cell_type": "code",
   "execution_count": null,
   "metadata": {},
   "outputs": [],
   "source": []
  },
  {
   "cell_type": "code",
   "execution_count": null,
   "metadata": {},
   "outputs": [],
   "source": []
  },
  {
   "cell_type": "code",
   "execution_count": null,
   "metadata": {},
   "outputs": [],
   "source": []
  },
  {
   "cell_type": "code",
   "execution_count": null,
   "metadata": {},
   "outputs": [],
   "source": []
  },
  {
   "cell_type": "code",
   "execution_count": null,
   "metadata": {},
   "outputs": [],
   "source": []
  },
  {
   "cell_type": "markdown",
   "metadata": {},
   "source": [
    "# Plotting 2D vectors with python\n",
    "\n",
    "\n",
    "* To plot 2D vectors in python we use the __matplotlib__ function called __quiver()__\n",
    "\n",
    "\n",
    "* To actuall use __quiver__ we call it as follows:\n",
    "\n",
    "\n",
    "__plt.quiver(x1,x2,u1,u2)__\n",
    "\n",
    "\n",
    "* We need to use plt. in from to indicate the function comes from the __matplotlib__ libraary.\n",
    "\n",
    "\n",
    "* The arguments __x1__ and __x2__ are the coordinate of teh __basepoint (start point)__ in the $(x,y)$-plane.\n",
    "\n",
    "\n",
    "* The arguments __u1__ __u2__ are the components of teh vector along the $x$-axis and $y$-axis respectively.\n",
    "\n",
    "\n",
    "## Example 2\n",
    "\n",
    "* Use __quiver__ to plot the vectors $$3.5\\vec{A}-7.8\\vec{B} \\text{ and } 2.5\\vec{A}-4.3\\vec{B}+6.2\\vec{C}$$ from __Example 1__. \n",
    "\n",
    "\n",
    "* You can choose your own basepoint(s).\n",
    "\n",
    "\n",
    "### Solution:\n",
    "\n",
    "* We will create two version of this plot, the first one wher both vectors have baspoint $O(0,0)$ i.e. the origin.\n",
    "\n",
    "\n",
    "* The first thing we need to do is create the component of each vector, so we can plug these numbers into __quiver()__.\n",
    "\n",
    "\n",
    "* We have:"
   ]
  },
  {
   "cell_type": "code",
   "execution_count": 85,
   "metadata": {},
   "outputs": [
    {
     "data": {
      "text/plain": [
       "array([-44.34, -24.13])"
      ]
     },
     "execution_count": 85,
     "metadata": {},
     "output_type": "execute_result"
    }
   ],
   "source": [
    "u=3.5*A-7.8*B\n",
    "u"
   ]
  },
  {
   "cell_type": "markdown",
   "metadata": {},
   "source": [
    "* Again, __u__ is a vector, i.e. an array of numbers.\n",
    "\n",
    "\n",
    "* However, we can extract the individual components using __u[0]__, which gives the first component and __u[1]__ which gives the second comonent. \n",
    "\n",
    "\n",
    "* __Note:__ Python starts counting from __zero__, so the first compoent is actuall __u[0]__!!"
   ]
  },
  {
   "cell_type": "code",
   "execution_count": 71,
   "metadata": {},
   "outputs": [
    {
     "data": {
      "text/plain": [
       "-44.339999999999996"
      ]
     },
     "execution_count": 71,
     "metadata": {},
     "output_type": "execute_result"
    }
   ],
   "source": [
    "u[0]"
   ]
  },
  {
   "cell_type": "code",
   "execution_count": 72,
   "metadata": {},
   "outputs": [
    {
     "data": {
      "text/plain": [
       "-24.13"
      ]
     },
     "execution_count": 72,
     "metadata": {},
     "output_type": "execute_result"
    }
   ],
   "source": [
    "u[1]"
   ]
  },
  {
   "cell_type": "markdown",
   "metadata": {},
   "source": [
    "* So now our wuiver plot is given by"
   ]
  },
  {
   "cell_type": "code",
   "execution_count": 75,
   "metadata": {},
   "outputs": [
    {
     "data": {
      "text/plain": [
       "<matplotlib.quiver.Quiver at 0x7f14fee17b00>"
      ]
     },
     "execution_count": 75,
     "metadata": {},
     "output_type": "execute_result"
    },
    {
     "data": {
      "image/png": "[encoded data removed]",
      "text/plain": [
       "<Figure size 432x288 with 1 Axes>"
      ]
     },
     "metadata": {
      "needs_background": "light"
     },
     "output_type": "display_data"
    }
   ],
   "source": [
    "plt.quiver(0,0,u[0],u[1])"
   ]
  },
  {
   "cell_type": "markdown",
   "metadata": {},
   "source": [
    "### IMPORTANT: \n",
    "\n",
    "* We see that the vector is very small compared to what it should be. \n",
    "\n",
    "* This is becaus python uses different scales to plot vectors and to plot the $(x,y)$-axis.\n",
    "\n",
    "* We can change this default setting with the foloowing extra arguments inside the __quiver__ function:\n",
    "\n",
    "    __angles='xy', scale_units='xy', scale=1__\n",
    "\n",
    "   "
   ]
  },
  {
   "cell_type": "code",
   "execution_count": 74,
   "metadata": {},
   "outputs": [
    {
     "data": {
      "text/plain": [
       "<matplotlib.quiver.Quiver at 0x7f14fee36978>"
      ]
     },
     "execution_count": 74,
     "metadata": {},
     "output_type": "execute_result"
    },
    {
     "data": {
      "image/png": "[encoded data removed]",
      "text/plain": [
       "<Figure size 432x288 with 1 Axes>"
      ]
     },
     "metadata": {
      "needs_background": "light"
     },
     "output_type": "display_data"
    }
   ],
   "source": [
    "plt.quiver(0,0,u[0],u[1],angles='xy', scale_units='xy', scale=1)"
   ]
  },
  {
   "cell_type": "markdown",
   "metadata": {},
   "source": [
    "## Axis Limits\n",
    "\n",
    "* So now our vector looks too big for the plot window.\n",
    "\n",
    "\n",
    "* We can change the size of the plot window using the commands __plt.xlim(a1,a2)__ and __plt.ylim(b1,b2).__\n",
    "\n",
    "\n",
    "* Here __a1__ is the very left of the figure, we are goingto set it to __-50__, since the vector goes all the way to __a1 = -44.4__, while the right limit will be set to __a2 = +1__, since the vector starts at zero on the right. \n",
    "\n",
    "\n",
    "* We make the figure just a littlle bigger than the vector itself.\n",
    "\n",
    "\n",
    "* In the same way we sey the vertical linmits as __b_1 = -26__ and __b2 = +1__  "
   ]
  },
  {
   "cell_type": "code",
   "execution_count": 76,
   "metadata": {},
   "outputs": [
    {
     "data": {
      "text/plain": [
       "(-26.0, 1.0)"
      ]
     },
     "execution_count": 76,
     "metadata": {},
     "output_type": "execute_result"
    },
    {
     "data": {
      "image/png": "[encoded data removed]",
      "text/plain": [
       "<Figure size 432x288 with 1 Axes>"
      ]
     },
     "metadata": {
      "needs_background": "light"
     },
     "output_type": "display_data"
    }
   ],
   "source": [
    "plt.quiver(0,0,u[0],u[1],angles='xy', scale_units='xy', scale=1)\n",
    "plt.xlim(-50,1)\n",
    "plt.ylim(-26,1)"
   ]
  },
  {
   "cell_type": "markdown",
   "metadata": {},
   "source": [
    "* We can include the vector $2.5\\vec{A}-4.3\\vec{B}+6.2\\vec{C}$ in the same way."
   ]
  },
  {
   "cell_type": "code",
   "execution_count": 77,
   "metadata": {},
   "outputs": [
    {
     "data": {
      "text/plain": [
       "array([-16.3 , -61.56])"
      ]
     },
     "execution_count": 77,
     "metadata": {},
     "output_type": "execute_result"
    }
   ],
   "source": [
    "v=2.5*A-4.3*B+6.2*C\n",
    "v"
   ]
  },
  {
   "cell_type": "code",
   "execution_count": 78,
   "metadata": {},
   "outputs": [
    {
     "data": {
      "text/plain": [
       "-16.3"
      ]
     },
     "execution_count": 78,
     "metadata": {},
     "output_type": "execute_result"
    }
   ],
   "source": [
    "v[0]"
   ]
  },
  {
   "cell_type": "code",
   "execution_count": 79,
   "metadata": {},
   "outputs": [
    {
     "data": {
      "text/plain": [
       "-61.56"
      ]
     },
     "execution_count": 79,
     "metadata": {},
     "output_type": "execute_result"
    }
   ],
   "source": [
    "v[1]"
   ]
  },
  {
   "cell_type": "code",
   "execution_count": 81,
   "metadata": {},
   "outputs": [
    {
     "data": {
      "text/plain": [
       "(-65.0, 1.0)"
      ]
     },
     "execution_count": 81,
     "metadata": {},
     "output_type": "execute_result"
    },
    {
     "data": {
      "image/png": "[encoded data removed]",
      "text/plain": [
       "<Figure size 432x288 with 1 Axes>"
      ]
     },
     "metadata": {
      "needs_background": "light"
     },
     "output_type": "display_data"
    }
   ],
   "source": [
    "plt.quiver(0,0,u[0],u[1],angles='xy', scale_units='xy', scale=1,color='red')\n",
    "plt.quiver(0,0,v[0],v[1],angles='xy', scale_units='xy', scale=1,color='blue')\n",
    "plt.xlim(-50,1)\n",
    "plt.ylim(-65,1)"
   ]
  },
  {
   "cell_type": "markdown",
   "metadata": {},
   "source": [
    "* We have used the extra parameter __color__ to set each vector a different colourm just to see which is which.\n",
    "\n",
    "\n",
    "* We can do a lot more with this plot, but for now we will stick to the basics!!"
   ]
  },
  {
   "cell_type": "markdown",
   "metadata": {},
   "source": [
    "### Plotting with different basepoints\n",
    "\n",
    "\n",
    "* We now replace the __0,0__ coordinate of each point with arbitrarily chosen values.\n",
    "\n",
    "\n",
    "* Note that if you chang the __basepoints__ you will probably have to chang the limits to make surethe vectors remain in the frame. "
   ]
  },
  {
   "cell_type": "code",
   "execution_count": 84,
   "metadata": {},
   "outputs": [
    {
     "data": {
      "text/plain": [
       "(-65.0, 6.0)"
      ]
     },
     "execution_count": 84,
     "metadata": {},
     "output_type": "execute_result"
    },
    {
     "data": {
      "image/png": "[encoded data removed]",
      "text/plain": [
       "<Figure size 432x288 with 1 Axes>"
      ]
     },
     "metadata": {
      "needs_background": "light"
     },
     "output_type": "display_data"
    }
   ],
   "source": [
    "plt.quiver(1,2,u[0],u[1],angles='xy', scale_units='xy', scale=1,color='red')\n",
    "plt.quiver(-3,5,v[0],v[1],angles='xy', scale_units='xy', scale=1,color='blue')\n",
    "plt.xlim(-50,6)\n",
    "plt.ylim(-65,6)"
   ]
  },
  {
   "cell_type": "markdown",
   "metadata": {},
   "source": [
    "### Exercise 2:\n",
    "\n",
    "Plot the vectors\n",
    "\n",
    "$$-3.1\\vec{U}-7.3\\vec{W}-8.9\\vec{V}\\quad\\text{and}\\quad \\vec{X}-5.1\\vec{W}+3.4\\vec{V}+6.6\\vec{U}$$\n",
    "\n",
    "from __Exercise 1__ using the the plots in __Example 2.__"
   ]
  },
  {
   "cell_type": "code",
   "execution_count": null,
   "metadata": {},
   "outputs": [],
   "source": []
  }
 ],
 "metadata": {
  "kernelspec": {
   "display_name": "Python 3",
   "language": "python",
   "name": "python3"
  },
  "language_info": {
   "codemirror_mode": {
    "name": "ipython",
    "version": 3
   },
   "file_extension": ".py",
   "mimetype": "text/x-python",
   "name": "python",
   "nbconvert_exporter": "python",
   "pygments_lexer": "ipython3",
   "version": "3.6.9"
  }
 },
 "nbformat": 4,
 "nbformat_minor": 4
}
