{
 "cells": [
  {
   "cell_type": "markdown",
   "metadata": {},
   "source": [
    "# Engineering Maths 8.1 2020\n",
    "\n",
    "## Python Workbook 3 - Complex Numbers"
   ]
  },
  {
   "cell_type": "markdown",
   "metadata": {},
   "source": [
    "### The Libraries"
   ]
  },
  {
   "cell_type": "code",
   "execution_count": 1,
   "metadata": {},
   "outputs": [],
   "source": [
    "import numpy as np # NUMerical PYthon\n",
    "import cmath as cm # Complex MATH"
   ]
  },
  {
   "cell_type": "markdown",
   "metadata": {},
   "source": [
    "### Some useful functions"
   ]
  },
  {
   "cell_type": "code",
   "execution_count": 10,
   "metadata": {},
   "outputs": [],
   "source": [
    "from numpy import radians as rad # Convert from degrees to radians\n",
    "from numpy import degrees as deg # Convert from radians to degreees\n",
    "from cmath import sqrt as root # Take square roots of negative and complex numbers"
   ]
  },
  {
   "cell_type": "markdown",
   "metadata": {},
   "source": [
    "## Example 1\n",
    "\n",
    "* Use the function __complex()__ to define and display the complex numbers\n",
    "\n",
    "$$z_{1}=-1.4+3.5i\\quad z_{2}=5.7-8.9i\\quad z_{3}=-12.8-5.7i\\quad z_{4}=21.4+43.5i$$\n",
    "\n",
    "\n",
    "### Solution\n",
    "\n",
    "\n",
    "* The numbers are defined as "
   ]
  },
  {
   "cell_type": "code",
   "execution_count": 3,
   "metadata": {},
   "outputs": [],
   "source": [
    "z1=complex(-1.4,3.5)\n",
    "z2=complex(5.7,-8.9)\n",
    "z3=complex(-12.8,-5.7)\n",
    "z4=complex(21.4,43.5)"
   ]
  },
  {
   "cell_type": "code",
   "execution_count": 4,
   "metadata": {},
   "outputs": [
    {
     "data": {
      "text/plain": [
       "(-1.4+3.5j)"
      ]
     },
     "execution_count": 4,
     "metadata": {},
     "output_type": "execute_result"
    }
   ],
   "source": [
    "z1"
   ]
  },
  {
   "cell_type": "code",
   "execution_count": 5,
   "metadata": {},
   "outputs": [
    {
     "data": {
      "text/plain": [
       "(5.7-8.9j)"
      ]
     },
     "execution_count": 5,
     "metadata": {},
     "output_type": "execute_result"
    }
   ],
   "source": [
    "z2"
   ]
  },
  {
   "cell_type": "code",
   "execution_count": 6,
   "metadata": {},
   "outputs": [
    {
     "data": {
      "text/plain": [
       "(-12.8-5.7j)"
      ]
     },
     "execution_count": 6,
     "metadata": {},
     "output_type": "execute_result"
    }
   ],
   "source": [
    "z3"
   ]
  },
  {
   "cell_type": "code",
   "execution_count": 7,
   "metadata": {},
   "outputs": [
    {
     "data": {
      "text/plain": [
       "(21.4+43.5j)"
      ]
     },
     "execution_count": 7,
     "metadata": {},
     "output_type": "execute_result"
    }
   ],
   "source": [
    "z4"
   ]
  },
  {
   "cell_type": "markdown",
   "metadata": {},
   "source": [
    "* Notice that python uses $j$ to denote the imaginary unit.\n",
    "\n",
    "\n",
    "* This is a convention used mostly in electrical engineering, where the symbol $i$ is usually reserved for current.\n",
    "\n",
    "\n",
    "* You should be aware that $i$ and $j$ are both frequently used to represent the imaginary unit, it should usually be clear from the context."
   ]
  },
  {
   "cell_type": "markdown",
   "metadata": {},
   "source": [
    "## Exercise 1\n",
    "\n",
    "\n",
    "* Use the function __complex()__ to represent and display each of the following complex numbers\n",
    "\n",
    "\n",
    "$$w_{1}=0.08-0.025i\\quad w_{2}=1893+1554i\\quad w_{3}=-1.8+2.7i\\quad w_{4}=-101.4-333.3i$$\n"
   ]
  },
  {
   "cell_type": "code",
   "execution_count": null,
   "metadata": {},
   "outputs": [],
   "source": []
  },
  {
   "cell_type": "code",
   "execution_count": null,
   "metadata": {},
   "outputs": [],
   "source": []
  },
  {
   "cell_type": "code",
   "execution_count": null,
   "metadata": {},
   "outputs": [],
   "source": []
  },
  {
   "cell_type": "code",
   "execution_count": null,
   "metadata": {},
   "outputs": [],
   "source": []
  },
  {
   "cell_type": "markdown",
   "metadata": {},
   "source": [
    "# Roots of a quadratic equation\n",
    "\n",
    "\n",
    "* In the cell below we define our very own python function to find the roots of the quadratic equation\n",
    "\n",
    "$$az^2+bx+c=0.$$\n",
    "\n",
    "\n",
    "* As we know, the roots are given by\n",
    "\n",
    "$$z=\\frac{-b\\pm\\sqrt{b^2-4ac}}{2a}.$$"
   ]
  },
  {
   "cell_type": "code",
   "execution_count": 11,
   "metadata": {},
   "outputs": [],
   "source": [
    "def Roots(a,b,c): # We call our function Roots and indicate it depends on 3 variables, a, b & c\n",
    "    return (-b-root(b**2-4*a*c))/2/a,(-b+root(b**2-4*a*c))/2/a # Define what Roots should do to a,b, & c"
   ]
  },
  {
   "cell_type": "markdown",
   "metadata": {},
   "source": [
    "## Example 2\n",
    "\n",
    "* Find the roots of \n",
    "\n",
    "$$z^2-4=0.$$\n",
    "\n",
    "\n",
    "### Solution\n",
    "\n",
    "\n",
    "* It is clear in this case that the roots are \n",
    "\n",
    "$$z=\\pm\\sqrt{4}=\\pm2.$$\n",
    "\n",
    "* We also see that the coefficients of the quadratic polynomial are\n",
    "\n",
    "$$a=1\\quad b=0 \\quad c=-4.$$\n",
    "\n",
    "\n",
    "* We test our function __Roots()__ using  these values of $a$, $b$ and $c$:"
   ]
  },
  {
   "cell_type": "code",
   "execution_count": 12,
   "metadata": {},
   "outputs": [
    {
     "data": {
      "text/plain": [
       "((-2+0j), (2+0j))"
      ]
     },
     "execution_count": 12,
     "metadata": {},
     "output_type": "execute_result"
    }
   ],
   "source": [
    "Roots(1,0,-4)"
   ]
  },
  {
   "cell_type": "markdown",
   "metadata": {},
   "source": [
    "* We see everything is in order, __Roots()__ has returned the expected values. "
   ]
  },
  {
   "cell_type": "markdown",
   "metadata": {},
   "source": [
    "## Exercise 2\n",
    "\n",
    "\n",
    "* Check the roots you found for __Exercise 1__ in the lecture notes, using __Roots()__"
   ]
  },
  {
   "cell_type": "code",
   "execution_count": null,
   "metadata": {},
   "outputs": [],
   "source": []
  },
  {
   "cell_type": "code",
   "execution_count": null,
   "metadata": {},
   "outputs": [],
   "source": []
  },
  {
   "cell_type": "code",
   "execution_count": null,
   "metadata": {},
   "outputs": [],
   "source": []
  },
  {
   "cell_type": "code",
   "execution_count": null,
   "metadata": {},
   "outputs": [],
   "source": []
  },
  {
   "cell_type": "markdown",
   "metadata": {},
   "source": [
    "# Modulus & argument of a complex number\n",
    "\n",
    "## The modulus\n",
    "\n",
    "* To find the modulus (i.e. size) of a complex number $z$, we use the function __abs()__ (__abs__olute value).\n",
    "\n",
    "\n",
    "\n",
    "## Example 3\n",
    "\n",
    "* Use the function __abs()__ to define and display the complex numbers\n",
    "\n",
    "$$z_{1}=-1.4+3.5i\\quad z_{2}=5.7-8.9i\\quad z_{3}=-12.8-5.7i\\quad z_{4}=21.4+43.5i$$\n",
    "\n",
    "\n",
    "### Solution\n",
    "\n",
    "\n",
    "* The numbers are defined as "
   ]
  },
  {
   "cell_type": "code",
   "execution_count": 13,
   "metadata": {},
   "outputs": [],
   "source": [
    "z1=complex(-1.4,3.5)\n",
    "z2=complex(5.7,-8.9)\n",
    "z3=complex(-12.8,-5.7)\n",
    "z4=complex(21.4,43.5)"
   ]
  },
  {
   "cell_type": "markdown",
   "metadata": {},
   "source": [
    "* The modulus of each complex number is given by "
   ]
  },
  {
   "cell_type": "code",
   "execution_count": 14,
   "metadata": {},
   "outputs": [
    {
     "data": {
      "text/plain": [
       "3.7696153649941526"
      ]
     },
     "execution_count": 14,
     "metadata": {},
     "output_type": "execute_result"
    }
   ],
   "source": [
    "abs(z1)"
   ]
  },
  {
   "cell_type": "code",
   "execution_count": 15,
   "metadata": {},
   "outputs": [
    {
     "data": {
      "text/plain": [
       "10.56882207249228"
      ]
     },
     "execution_count": 15,
     "metadata": {},
     "output_type": "execute_result"
    }
   ],
   "source": [
    "abs(z2)"
   ]
  },
  {
   "cell_type": "code",
   "execution_count": 16,
   "metadata": {},
   "outputs": [
    {
     "data": {
      "text/plain": [
       "14.011780757633913"
      ]
     },
     "execution_count": 16,
     "metadata": {},
     "output_type": "execute_result"
    }
   ],
   "source": [
    "abs(z3)"
   ]
  },
  {
   "cell_type": "code",
   "execution_count": 17,
   "metadata": {},
   "outputs": [
    {
     "data": {
      "text/plain": [
       "48.47896451039358"
      ]
     },
     "execution_count": 17,
     "metadata": {},
     "output_type": "execute_result"
    }
   ],
   "source": [
    "abs(z4)"
   ]
  },
  {
   "cell_type": "markdown",
   "metadata": {},
   "source": [
    "## The argument\n",
    "\n",
    "* Another name for the argument of a complex number is the __phase__.\n",
    "\n",
    "\n",
    "* This is the terminology used in python, with the function __cm.phase()__\n",
    "\n",
    "\n",
    "## Example 4\n",
    "\n",
    "* Use the function __abs()__ to define and display the complex numbers\n",
    "\n",
    "$$z_{1}=-1.4+3.5i\\quad z_{2}=5.7-8.9i\\quad z_{3}=-12.8-5.7i\\quad z_{4}=21.4+43.5i$$\n",
    "\n",
    "\n",
    "### Solution\n",
    "\n",
    "* We have already defined these numbers in __Example 3__, so we de not have to re-define them again.\n",
    "\n",
    "\n",
    "* The argument (i.e. phase) of each complex number is given by"
   ]
  },
  {
   "cell_type": "code",
   "execution_count": 18,
   "metadata": {},
   "outputs": [
    {
     "data": {
      "text/plain": [
       "1.9513027039072615"
      ]
     },
     "execution_count": 18,
     "metadata": {},
     "output_type": "execute_result"
    }
   ],
   "source": [
    "cm.phase(z1)"
   ]
  },
  {
   "cell_type": "code",
   "execution_count": 22,
   "metadata": {},
   "outputs": [
    {
     "data": {
      "text/plain": [
       "-1.0011643598044906"
      ]
     },
     "execution_count": 22,
     "metadata": {},
     "output_type": "execute_result"
    }
   ],
   "source": [
    "cm.phase(z2)"
   ]
  },
  {
   "cell_type": "code",
   "execution_count": 23,
   "metadata": {},
   "outputs": [
    {
     "data": {
      "text/plain": [
       "-2.7226436864562404"
      ]
     },
     "execution_count": 23,
     "metadata": {},
     "output_type": "execute_result"
    }
   ],
   "source": [
    "cm.phase(z3)"
   ]
  },
  {
   "cell_type": "code",
   "execution_count": 24,
   "metadata": {},
   "outputs": [
    {
     "data": {
      "text/plain": [
       "1.1136061926115326"
      ]
     },
     "execution_count": 24,
     "metadata": {},
     "output_type": "execute_result"
    }
   ],
   "source": [
    "cm.phase(z4)"
   ]
  },
  {
   "cell_type": "markdown",
   "metadata": {},
   "source": [
    "### Converting to degrees\n",
    "\n",
    "\n",
    "* We see that the phases appear to be very small, all about $\\pm1$ to $\\pm3$.\n",
    "\n",
    "* However, these phases are given in radians (which we will cover in later lectures).\n",
    "\n",
    "* To find the argument in degrees we use the __numpy__ function __np.degrees()__ to convert from radians to degrees.\n",
    "\n",
    "* We have already imported this function using the abbreviation __deg()__ above, se to find the arguments in degrees we do the follwoing:"
   ]
  },
  {
   "cell_type": "code",
   "execution_count": 25,
   "metadata": {},
   "outputs": [
    {
     "data": {
      "text/plain": [
       "111.80140948635182"
      ]
     },
     "execution_count": 25,
     "metadata": {},
     "output_type": "execute_result"
    }
   ],
   "source": [
    "deg(cm.phase(z1))"
   ]
  },
  {
   "cell_type": "code",
   "execution_count": 26,
   "metadata": {},
   "outputs": [
    {
     "data": {
      "text/plain": [
       "-57.362492415714314"
      ]
     },
     "execution_count": 26,
     "metadata": {},
     "output_type": "execute_result"
    }
   ],
   "source": [
    "deg(cm.phase(z2))"
   ]
  },
  {
   "cell_type": "code",
   "execution_count": 27,
   "metadata": {},
   "outputs": [
    {
     "data": {
      "text/plain": [
       "-155.9959923518824"
      ]
     },
     "execution_count": 27,
     "metadata": {},
     "output_type": "execute_result"
    }
   ],
   "source": [
    "deg(cm.phase(z3))"
   ]
  },
  {
   "cell_type": "code",
   "execution_count": 28,
   "metadata": {},
   "outputs": [
    {
     "data": {
      "text/plain": [
       "63.80493487627346"
      ]
     },
     "execution_count": 28,
     "metadata": {},
     "output_type": "execute_result"
    }
   ],
   "source": [
    "deg(cm.phase(z4))"
   ]
  },
  {
   "cell_type": "code",
   "execution_count": null,
   "metadata": {},
   "outputs": [],
   "source": []
  }
 ],
 "metadata": {
  "kernelspec": {
   "display_name": "Python 3",
   "language": "python",
   "name": "python3"
  },
  "language_info": {
   "codemirror_mode": {
    "name": "ipython",
    "version": 3
   },
   "file_extension": ".py",
   "mimetype": "text/x-python",
   "name": "python",
   "nbconvert_exporter": "python",
   "pygments_lexer": "ipython3",
   "version": "3.6.9"
  }
 },
 "nbformat": 4,
 "nbformat_minor": 4
}
