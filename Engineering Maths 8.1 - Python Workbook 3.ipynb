{
  "nbformat": 4,
  "nbformat_minor": 0,
  "metadata": {
    "kernelspec": {
      "display_name": "Python 3",
      "language": "python",
      "name": "python3"
    },
    "language_info": {
      "codemirror_mode": {
        "name": "ipython",
        "version": 3
      },
      "file_extension": ".py",
      "mimetype": "text/x-python",
      "name": "python",
      "nbconvert_exporter": "python",
      "pygments_lexer": "ipython3",
      "version": "3.6.9"
    },
    "colab": {
      "name": "Engineering Maths 8.1 - Python Workbook 3.ipynb",
      "provenance": []
    }
  },
  "cells": [
    {
      "cell_type": "markdown",
      "metadata": {
        "id": "z0BynH_EOEBw"
      },
      "source": [
        "# Engineering Maths 8.1 2020\n",
        "\n",
        "## Python Workbook 3 - Complex Numbers"
      ]
    },
    {
      "cell_type": "markdown",
      "metadata": {
        "id": "5Bx69ox-OEB0"
      },
      "source": [
        "### The Libraries"
      ]
    },
    {
      "cell_type": "code",
      "metadata": {
        "id": "As41ZUZFOEB3"
      },
      "source": [
        "import matplotlib.pyplot as plt # Import PYthon PLOT for plotting\n",
        "import numpy as np # NUMerical PYthon\n",
        "import cmath as cm # Complex MATH"
      ],
      "execution_count": 1,
      "outputs": []
    },
    {
      "cell_type": "markdown",
      "metadata": {
        "id": "dc9r0ULvOECF"
      },
      "source": [
        "### Some useful functions"
      ]
    },
    {
      "cell_type": "code",
      "metadata": {
        "id": "9rcFf_k-OECH"
      },
      "source": [
        "from numpy import radians as rad # Convert from degrees to radians\n",
        "from numpy import degrees as deg # Convert from radians to degreees\n",
        "from cmath import sqrt as root # Take square roots of negative and complex numbers"
      ],
      "execution_count": 2,
      "outputs": []
    },
    {
      "cell_type": "markdown",
      "metadata": {
        "id": "tEWwWrZJOECP"
      },
      "source": [
        "## Example 1\n",
        "\n",
        "* Use the function __complex()__ to define and display the complex numbers\n",
        "\n",
        "$$z_{1}=-1.4+3.5i\\quad z_{2}=5.7-8.9i\\quad z_{3}=-12.8-5.7i\\quad z_{4}=21.4+43.5i$$\n",
        "\n",
        "\n",
        "### Solution\n",
        "\n",
        "\n",
        "* The numbers are defined as "
      ]
    },
    {
      "cell_type": "code",
      "metadata": {
        "id": "3WV1XypwD0dj"
      },
      "source": [
        ""
      ],
      "execution_count": null,
      "outputs": []
    },
    {
      "cell_type": "code",
      "metadata": {
        "id": "Y05NGuo7OECR"
      },
      "source": [
        "z1=complex(-1.4,3.5)\n",
        "z2=complex(5.7,-8.9)\n",
        "z3=complex(-12.8,-5.7)\n",
        "z4=complex(21.4,43.5)"
      ],
      "execution_count": null,
      "outputs": []
    },
    {
      "cell_type": "code",
      "metadata": {
        "id": "vZlnQCGUOECY",
        "outputId": "afd22dff-c871-4685-bcc8-69fb3830152b",
        "colab": {
          "base_uri": "https://localhost:8080/",
          "height": 35
        }
      },
      "source": [
        "z1"
      ],
      "execution_count": null,
      "outputs": [
        {
          "output_type": "execute_result",
          "data": {
            "text/plain": [
              "(-1.4+3.5j)"
            ]
          },
          "metadata": {
            "tags": []
          },
          "execution_count": 5
        }
      ]
    },
    {
      "cell_type": "code",
      "metadata": {
        "id": "k-JgKi0-OECg",
        "outputId": "f4716e64-4099-4617-eab4-0a70c538e436",
        "colab": {
          "base_uri": "https://localhost:8080/",
          "height": 35
        }
      },
      "source": [
        "z2"
      ],
      "execution_count": null,
      "outputs": [
        {
          "output_type": "execute_result",
          "data": {
            "text/plain": [
              "(5.7-8.9j)"
            ]
          },
          "metadata": {
            "tags": []
          },
          "execution_count": 6
        }
      ]
    },
    {
      "cell_type": "code",
      "metadata": {
        "id": "UZqbwj5AOECp",
        "outputId": "9944839d-d6ee-46fc-b456-833abaf5cc10",
        "colab": {
          "base_uri": "https://localhost:8080/",
          "height": 35
        }
      },
      "source": [
        "z3"
      ],
      "execution_count": null,
      "outputs": [
        {
          "output_type": "execute_result",
          "data": {
            "text/plain": [
              "(-12.8-5.7j)"
            ]
          },
          "metadata": {
            "tags": []
          },
          "execution_count": 7
        }
      ]
    },
    {
      "cell_type": "code",
      "metadata": {
        "id": "zOvZ4Y5qOECv",
        "outputId": "180b9dc2-94fb-481d-8d4d-9ba37099e19a",
        "colab": {
          "base_uri": "https://localhost:8080/",
          "height": 35
        }
      },
      "source": [
        "z4"
      ],
      "execution_count": null,
      "outputs": [
        {
          "output_type": "execute_result",
          "data": {
            "text/plain": [
              "(21.4+43.5j)"
            ]
          },
          "metadata": {
            "tags": []
          },
          "execution_count": 8
        }
      ]
    },
    {
      "cell_type": "markdown",
      "metadata": {
        "id": "2-hirWgfOEC1"
      },
      "source": [
        "* Notice that python uses $j$ to denote the imaginary unit.\n",
        "\n",
        "\n",
        "* This is a convention used mostly in electrical engineering, where the symbol $i$ is usually reserved for current.\n",
        "\n",
        "\n",
        "* You should be aware that $i$ and $j$ are both frequently used to represent the imaginary unit, it should usually be clear from the context."
      ]
    },
    {
      "cell_type": "markdown",
      "metadata": {
        "id": "5KeBQBnVOEC1"
      },
      "source": [
        "## Exercise 1\n",
        "\n",
        "\n",
        "* Use the function __complex()__ to represent and display each of the following complex numbers\n",
        "\n",
        "\n",
        "$$w_{1}=0.08-0.025i\\quad w_{2}=1893+1554i\\quad w_{3}=-1.8+2.7i\\quad w_{4}=-101.4-333.3i$$\n"
      ]
    },
    {
      "cell_type": "code",
      "metadata": {
        "id": "yleOI54ROEC2"
      },
      "source": [
        ""
      ],
      "execution_count": null,
      "outputs": []
    },
    {
      "cell_type": "code",
      "metadata": {
        "id": "OX14YahMOEC8"
      },
      "source": [
        ""
      ],
      "execution_count": null,
      "outputs": []
    },
    {
      "cell_type": "code",
      "metadata": {
        "id": "7lIDJFN0OEDC"
      },
      "source": [
        ""
      ],
      "execution_count": null,
      "outputs": []
    },
    {
      "cell_type": "code",
      "metadata": {
        "id": "XuPD1DLCOEDI"
      },
      "source": [
        ""
      ],
      "execution_count": null,
      "outputs": []
    },
    {
      "cell_type": "code",
      "metadata": {
        "id": "Eiqksxi8OEDN"
      },
      "source": [
        ""
      ],
      "execution_count": null,
      "outputs": []
    },
    {
      "cell_type": "code",
      "metadata": {
        "id": "bLxFeNSQOEDU"
      },
      "source": [
        ""
      ],
      "execution_count": null,
      "outputs": []
    },
    {
      "cell_type": "markdown",
      "metadata": {
        "id": "I14LelcvOEDa"
      },
      "source": [
        "# Roots of a quadratic equation\n",
        "\n",
        "\n",
        "* In the cell below we define our very own python function to find the roots of the quadratic equation\n",
        "\n",
        "$$az^2+bx+c=0.$$\n",
        "\n",
        "\n",
        "* As we know, the roots are given by\n",
        "\n",
        "$$z=\\frac{-b\\pm\\sqrt{b^2-4ac}}{2a}.$$"
      ]
    },
    {
      "cell_type": "code",
      "metadata": {
        "id": "b6wvE3JuOEDb"
      },
      "source": [
        "def Roots(a,b,c): # We call our function Roots and indicate it depends on 3 variables, a, b & c\n",
        "    return (-b-root(b**2-4*a*c))/2/a,(-b+root(b**2-4*a*c))/2/a # Define what Roots should do to a,b, & c"
      ],
      "execution_count": null,
      "outputs": []
    },
    {
      "cell_type": "markdown",
      "metadata": {
        "id": "izHPt1ukOEDh"
      },
      "source": [
        "## Example 2\n",
        "\n",
        "* Find the roots of \n",
        "\n",
        "$$z^2-4=0.$$\n",
        "\n",
        "\n",
        "### Solution\n",
        "\n",
        "\n",
        "* It is clear in this case that the roots are \n",
        "\n",
        "$$z=\\pm\\sqrt{4}=\\pm2.$$\n",
        "\n",
        "* We also see that the coefficients of the quadratic polynomial are\n",
        "\n",
        "$$a=1\\quad b=0 \\quad c=-4.$$\n",
        "\n",
        "\n",
        "* We test our function __Roots()__ using  these values of $a$, $b$ and $c$:"
      ]
    },
    {
      "cell_type": "code",
      "metadata": {
        "id": "xPKdiPB3OEDi",
        "outputId": "1723e070-7757-4260-814e-627d3a3bb150",
        "colab": {
          "base_uri": "https://localhost:8080/",
          "height": 35
        }
      },
      "source": [
        "Roots(1,0,-4)"
      ],
      "execution_count": null,
      "outputs": [
        {
          "output_type": "execute_result",
          "data": {
            "text/plain": [
              "((-2+0j), (2+0j))"
            ]
          },
          "metadata": {
            "tags": []
          },
          "execution_count": 10
        }
      ]
    },
    {
      "cell_type": "markdown",
      "metadata": {
        "id": "hYT8CMYhOEDo"
      },
      "source": [
        "* We see everything is in order, __Roots()__ has returned the expected values. "
      ]
    },
    {
      "cell_type": "markdown",
      "metadata": {
        "id": "vIhYAlBVOEDp"
      },
      "source": [
        "## Exercise 2\n",
        "\n",
        "\n",
        "* Check the roots you found for __Exercise 1__ in the lecture notes, using __Roots()__"
      ]
    },
    {
      "cell_type": "code",
      "metadata": {
        "id": "Dfqh76yyOEDp"
      },
      "source": [
        ""
      ],
      "execution_count": null,
      "outputs": []
    },
    {
      "cell_type": "code",
      "metadata": {
        "id": "zGQmBi29OEDu"
      },
      "source": [
        ""
      ],
      "execution_count": null,
      "outputs": []
    },
    {
      "cell_type": "code",
      "metadata": {
        "id": "890Z2tkQOEDz"
      },
      "source": [
        ""
      ],
      "execution_count": null,
      "outputs": []
    },
    {
      "cell_type": "code",
      "metadata": {
        "id": "MHPB-C_KOED3"
      },
      "source": [
        ""
      ],
      "execution_count": null,
      "outputs": []
    },
    {
      "cell_type": "code",
      "metadata": {
        "id": "bFjRCGFjOED9"
      },
      "source": [
        ""
      ],
      "execution_count": null,
      "outputs": []
    },
    {
      "cell_type": "code",
      "metadata": {
        "id": "q945xe98OEEC"
      },
      "source": [
        ""
      ],
      "execution_count": null,
      "outputs": []
    },
    {
      "cell_type": "markdown",
      "metadata": {
        "id": "Z4W6KVZXOEEH"
      },
      "source": [
        "# Modulus & argument of a complex number\n",
        "\n",
        "## The modulus\n",
        "\n",
        "* To find the modulus (i.e. size) of a complex number $z$, we use the function __abs()__ (__abs__olute value).\n",
        "\n",
        "\n",
        "\n",
        "## Example 3\n",
        "\n",
        "* Use the function __abs()__ to define and display the complex numbers\n",
        "\n",
        "$$z_{1}=-1.4+3.5i\\quad z_{2}=5.7-8.9i\\quad z_{3}=-12.8-5.7i\\quad z_{4}=21.4+43.5i$$\n",
        "\n",
        "\n",
        "### Solution\n",
        "\n",
        "\n",
        "* The numbers are defined as "
      ]
    },
    {
      "cell_type": "code",
      "metadata": {
        "id": "W3InoRojOEEH"
      },
      "source": [
        "z1=complex(-1.4,3.5)\n",
        "z2=complex(5.7,-8.9)\n",
        "z3=complex(-12.8,-5.7)\n",
        "z4=complex(21.4,43.5)"
      ],
      "execution_count": null,
      "outputs": []
    },
    {
      "cell_type": "markdown",
      "metadata": {
        "id": "Pg8t2VQmOEEN"
      },
      "source": [
        "* The modulus of each complex number is given by "
      ]
    },
    {
      "cell_type": "code",
      "metadata": {
        "id": "1TIuHXZyOEEO",
        "outputId": "66b6237b-eb42-4a04-fa46-fb11ca6028fd",
        "colab": {
          "base_uri": "https://localhost:8080/",
          "height": 35
        }
      },
      "source": [
        "abs(z1)"
      ],
      "execution_count": null,
      "outputs": [
        {
          "output_type": "execute_result",
          "data": {
            "text/plain": [
              "3.7696153649941526"
            ]
          },
          "metadata": {
            "tags": []
          },
          "execution_count": 12
        }
      ]
    },
    {
      "cell_type": "code",
      "metadata": {
        "id": "B6t81lN2OEES",
        "outputId": "2e55a686-9750-4845-cd16-45dcced480eb",
        "colab": {
          "base_uri": "https://localhost:8080/",
          "height": 35
        }
      },
      "source": [
        "abs(z2)"
      ],
      "execution_count": null,
      "outputs": [
        {
          "output_type": "execute_result",
          "data": {
            "text/plain": [
              "10.56882207249228"
            ]
          },
          "metadata": {
            "tags": []
          },
          "execution_count": 13
        }
      ]
    },
    {
      "cell_type": "code",
      "metadata": {
        "id": "ZYHuRmpXOEEX",
        "outputId": "87c6d6fb-b241-43f1-ca09-4577408b774a",
        "colab": {
          "base_uri": "https://localhost:8080/",
          "height": 35
        }
      },
      "source": [
        "abs(z3)"
      ],
      "execution_count": null,
      "outputs": [
        {
          "output_type": "execute_result",
          "data": {
            "text/plain": [
              "14.011780757633913"
            ]
          },
          "metadata": {
            "tags": []
          },
          "execution_count": 14
        }
      ]
    },
    {
      "cell_type": "code",
      "metadata": {
        "id": "oEt1uZobOEEb",
        "outputId": "c0ffa7af-552e-4ff5-cc4e-a36a00b31020",
        "colab": {
          "base_uri": "https://localhost:8080/",
          "height": 35
        }
      },
      "source": [
        "abs(z4)"
      ],
      "execution_count": null,
      "outputs": [
        {
          "output_type": "execute_result",
          "data": {
            "text/plain": [
              "48.47896451039358"
            ]
          },
          "metadata": {
            "tags": []
          },
          "execution_count": 15
        }
      ]
    },
    {
      "cell_type": "code",
      "metadata": {
        "id": "4xfM59HvOEEg"
      },
      "source": [
        ""
      ],
      "execution_count": null,
      "outputs": []
    },
    {
      "cell_type": "markdown",
      "metadata": {
        "id": "wnAuJWBfOEEj"
      },
      "source": [
        "## The argument\n",
        "\n",
        "* Another name for the argument of a complex number is the __phase__.\n",
        "\n",
        "\n",
        "* This is the terminology used in python, with the function __cm.phase()__\n",
        "\n",
        "\n",
        "## Example 4\n",
        "\n",
        "* Use the function __abs()__ to define and display the complex numbers\n",
        "\n",
        "$$z_{1}=-1.4+3.5i\\quad z_{2}=5.7-8.9i\\quad z_{3}=-12.8-5.7i\\quad z_{4}=21.4+43.5i$$\n",
        "\n",
        "\n",
        "### Solution\n",
        "\n",
        "* We have already defined these numbers in __Example 3__, so we de not have to re-define them again.\n",
        "\n",
        "\n",
        "* The argument (i.e. phase) of each complex number is given by"
      ]
    },
    {
      "cell_type": "code",
      "metadata": {
        "id": "03uUInEIOEEk",
        "outputId": "f09f55d6-2fc1-417c-a8e5-e2800360bf78",
        "colab": {
          "base_uri": "https://localhost:8080/",
          "height": 35
        }
      },
      "source": [
        "cm.phase(z1)"
      ],
      "execution_count": null,
      "outputs": [
        {
          "output_type": "execute_result",
          "data": {
            "text/plain": [
              "1.9513027039072615"
            ]
          },
          "metadata": {
            "tags": []
          },
          "execution_count": 16
        }
      ]
    },
    {
      "cell_type": "code",
      "metadata": {
        "id": "omOTsnU2OEEo",
        "outputId": "6879fc90-d47f-41f4-bf6d-143ac1adb82e",
        "colab": {
          "base_uri": "https://localhost:8080/",
          "height": 35
        }
      },
      "source": [
        "cm.phase(z2)"
      ],
      "execution_count": null,
      "outputs": [
        {
          "output_type": "execute_result",
          "data": {
            "text/plain": [
              "-1.0011643598044906"
            ]
          },
          "metadata": {
            "tags": []
          },
          "execution_count": 17
        }
      ]
    },
    {
      "cell_type": "code",
      "metadata": {
        "id": "l8681w3UOEEu",
        "outputId": "76fa5445-8452-47f3-86ec-5b30073c2fe2",
        "colab": {
          "base_uri": "https://localhost:8080/",
          "height": 35
        }
      },
      "source": [
        "cm.phase(z3)"
      ],
      "execution_count": null,
      "outputs": [
        {
          "output_type": "execute_result",
          "data": {
            "text/plain": [
              "-2.7226436864562404"
            ]
          },
          "metadata": {
            "tags": []
          },
          "execution_count": 18
        }
      ]
    },
    {
      "cell_type": "code",
      "metadata": {
        "id": "7jNLCdmmOEEx",
        "outputId": "810840b6-81d2-4800-f609-0e43df18d2d1",
        "colab": {
          "base_uri": "https://localhost:8080/",
          "height": 35
        }
      },
      "source": [
        "cm.phase(z4)"
      ],
      "execution_count": null,
      "outputs": [
        {
          "output_type": "execute_result",
          "data": {
            "text/plain": [
              "1.1136061926115326"
            ]
          },
          "metadata": {
            "tags": []
          },
          "execution_count": 19
        }
      ]
    },
    {
      "cell_type": "code",
      "metadata": {
        "id": "V1VWBWhPOEE0"
      },
      "source": [
        ""
      ],
      "execution_count": null,
      "outputs": []
    },
    {
      "cell_type": "markdown",
      "metadata": {
        "id": "akXup1ksOEE6"
      },
      "source": [
        "### Converting to degrees\n",
        "\n",
        "\n",
        "* We see that the phases appear to be very small, all about $\\pm1$ to $\\pm3$.\n",
        "\n",
        "* However, these phases are given in radians (which we will cover in later lectures).\n",
        "\n",
        "* To find the argument in degrees we use the __numpy__ function __np.degrees()__ to convert from radians to degrees.\n",
        "\n",
        "* We have already imported this function using the abbreviation __deg()__ above, se to find the arguments in degrees we do the follwoing:"
      ]
    },
    {
      "cell_type": "code",
      "metadata": {
        "id": "tZs3W_lGOEE6",
        "outputId": "baf186d7-4b82-43a6-f009-afeec701f1a9",
        "colab": {
          "base_uri": "https://localhost:8080/",
          "height": 35
        }
      },
      "source": [
        "deg(cm.phase(z1))"
      ],
      "execution_count": null,
      "outputs": [
        {
          "output_type": "execute_result",
          "data": {
            "text/plain": [
              "111.80140948635182"
            ]
          },
          "metadata": {
            "tags": []
          },
          "execution_count": 20
        }
      ]
    },
    {
      "cell_type": "code",
      "metadata": {
        "id": "5WbbyYTQOEE-",
        "outputId": "49c142a4-07d0-460e-9fd3-72d7593cbc1e",
        "colab": {
          "base_uri": "https://localhost:8080/",
          "height": 35
        }
      },
      "source": [
        "deg(cm.phase(z2))"
      ],
      "execution_count": null,
      "outputs": [
        {
          "output_type": "execute_result",
          "data": {
            "text/plain": [
              "-57.362492415714314"
            ]
          },
          "metadata": {
            "tags": []
          },
          "execution_count": 21
        }
      ]
    },
    {
      "cell_type": "code",
      "metadata": {
        "id": "yKN8MJ9nOEFD",
        "outputId": "1965a65a-9763-4198-8846-4a45f0ca4546",
        "colab": {
          "base_uri": "https://localhost:8080/",
          "height": 35
        }
      },
      "source": [
        "deg(cm.phase(z3))"
      ],
      "execution_count": null,
      "outputs": [
        {
          "output_type": "execute_result",
          "data": {
            "text/plain": [
              "-155.9959923518824"
            ]
          },
          "metadata": {
            "tags": []
          },
          "execution_count": 22
        }
      ]
    },
    {
      "cell_type": "code",
      "metadata": {
        "id": "5WuouSNsOEFG",
        "outputId": "99f6def5-ca59-4d48-e9d0-a16cd8d3cd31",
        "colab": {
          "base_uri": "https://localhost:8080/",
          "height": 35
        }
      },
      "source": [
        "deg(cm.phase(z4))"
      ],
      "execution_count": null,
      "outputs": [
        {
          "output_type": "execute_result",
          "data": {
            "text/plain": [
              "63.80493487627346"
            ]
          },
          "metadata": {
            "tags": []
          },
          "execution_count": 23
        }
      ]
    },
    {
      "cell_type": "markdown",
      "metadata": {
        "id": "wW6vArE2OEFJ"
      },
      "source": [
        "## Exercise 3\n",
        "\n",
        "* Find the modulus and argument of each of the coplex numbers $w_{1}$, $w_{2}$, $w_{3}$, $w_{4}$ from __Eercise 1.__"
      ]
    },
    {
      "cell_type": "code",
      "metadata": {
        "id": "VApwe7jvOEFK"
      },
      "source": [
        ""
      ],
      "execution_count": null,
      "outputs": []
    },
    {
      "cell_type": "code",
      "metadata": {
        "id": "Nc6pGdE8OEFO"
      },
      "source": [
        ""
      ],
      "execution_count": null,
      "outputs": []
    },
    {
      "cell_type": "code",
      "metadata": {
        "id": "QqXKYLyVOEFR"
      },
      "source": [
        ""
      ],
      "execution_count": null,
      "outputs": []
    },
    {
      "cell_type": "code",
      "metadata": {
        "id": "i_rPHE9hOEFU"
      },
      "source": [
        ""
      ],
      "execution_count": null,
      "outputs": []
    },
    {
      "cell_type": "code",
      "metadata": {
        "id": "IlLG6BQTOEFW"
      },
      "source": [
        ""
      ],
      "execution_count": null,
      "outputs": []
    },
    {
      "cell_type": "code",
      "metadata": {
        "id": "DvRHLB7LOEFZ"
      },
      "source": [
        ""
      ],
      "execution_count": null,
      "outputs": []
    },
    {
      "cell_type": "code",
      "metadata": {
        "id": "yArNfs8tOEFv"
      },
      "source": [
        ""
      ],
      "execution_count": null,
      "outputs": []
    },
    {
      "cell_type": "code",
      "metadata": {
        "id": "E8uQki3JOEF0"
      },
      "source": [
        ""
      ],
      "execution_count": null,
      "outputs": []
    },
    {
      "cell_type": "code",
      "metadata": {
        "id": "cGwsmdmoOEF2"
      },
      "source": [
        ""
      ],
      "execution_count": null,
      "outputs": []
    },
    {
      "cell_type": "code",
      "metadata": {
        "id": "vRjRMj6xOEF5"
      },
      "source": [
        ""
      ],
      "execution_count": null,
      "outputs": []
    },
    {
      "cell_type": "markdown",
      "metadata": {
        "id": "6Zk5FCFEOEF8"
      },
      "source": [
        "# Plotting Complex Numbers\n",
        "\n",
        "* When plotting a complex number $z$, we plot the real part of $z$ along the horizontal axis and the imaginary part of $z$ along the vertical axis.\n",
        "\n",
        "\n",
        "* To do this we use the matplotlib library.\n",
        "\n",
        "\n",
        "* To simplify things wven more, we are going to create our own function, which we will call __PlotComplex()__, to automate everything. Then all we have to do is supply a complex number $z$ to the function for plotting."
      ]
    },
    {
      "cell_type": "code",
      "metadata": {
        "id": "l_ZrP69FOEF9"
      },
      "source": [
        "def PlotComplex(z):\n",
        "    plt.figure(figsize=(8,8))\n",
        "    plt.axhline(y=0,color='darkslategray')# Plot a horizontal x-axis\n",
        "    plt.axvline(x=0,color='darkslategray')# Plot a vertical y-axis\n",
        "    plt.plot([0,np.real(z)],[0,np.imag(z)],ls='--',color='xkcd:azure',lw=2.5) # Plot a dashed line joining the origin to z\n",
        "    plt.plot([np.real(z)],[np.imag(z)],'o',color='xkcd:red') # Plot an orange dot at the complex number\n",
        "    if np.imag(z)<0:\n",
        "        plt.text(np.real(z),1.08*np.imag(z),'$%s - %sj$' % (np.real(z),abs(np.imag(z)))) # Label the point\n",
        "    if np.imag(z)>=0:\n",
        "        plt.text(np.real(z),1.08*np.imag(z),'$%s + %sj$' % (np.real(z),np.imag(z))) # label the point\n",
        "    plt.xlim(-1.5*abs(np.real(z)),1.5*abs(np.real(z))) # Set the limits of the x-axis\n",
        "    plt.ylim(-1.5*abs(np.imag(z)),1.5*abs(np.imag(z))) # Set the limits of the y-axis"
      ],
      "execution_count": null,
      "outputs": []
    },
    {
      "cell_type": "code",
      "metadata": {
        "id": "qZn2xgwQOEGB",
        "outputId": "3a2a4fa5-1b70-4e9f-f906-2d2f3721a289",
        "colab": {
          "base_uri": "https://localhost:8080/",
          "height": 483
        }
      },
      "source": [
        "PlotComplex(z2)"
      ],
      "execution_count": null,
      "outputs": [
        {
          "output_type": "display_data",
          "data": {
            "image/png": "[encoded data removed]",
            "text/plain": [
              "<Figure size 576x576 with 1 Axes>"
            ]
          },
          "metadata": {
            "tags": [],
            "needs_background": "light"
          }
        }
      ]
    },
    {
      "cell_type": "markdown",
      "metadata": {
        "id": "IQylte6UOEGE"
      },
      "source": [
        "## Exercise 4\n",
        "\n",
        "* Plot each of the complex numbers from __Exercise 1.__"
      ]
    },
    {
      "cell_type": "code",
      "metadata": {
        "id": "qh3bB3XTOEGH"
      },
      "source": [
        ""
      ],
      "execution_count": null,
      "outputs": []
    },
    {
      "cell_type": "code",
      "metadata": {
        "id": "A2MA7bOXOEGL"
      },
      "source": [
        ""
      ],
      "execution_count": null,
      "outputs": []
    },
    {
      "cell_type": "code",
      "metadata": {
        "id": "Kez2j9WDOEGO"
      },
      "source": [
        ""
      ],
      "execution_count": null,
      "outputs": []
    },
    {
      "cell_type": "code",
      "metadata": {
        "id": "Mu7Mzf4sOEGS"
      },
      "source": [
        ""
      ],
      "execution_count": null,
      "outputs": []
    },
    {
      "cell_type": "code",
      "metadata": {
        "id": "x-PAgCFhOEGV"
      },
      "source": [
        ""
      ],
      "execution_count": null,
      "outputs": []
    },
    {
      "cell_type": "code",
      "metadata": {
        "id": "iBDoMnu9OEGY"
      },
      "source": [
        ""
      ],
      "execution_count": null,
      "outputs": []
    },
    {
      "cell_type": "markdown",
      "metadata": {
        "id": "RbPkFJDcOEGb"
      },
      "source": [
        "# Euler's Formula\n",
        "\n",
        "* We have seen during lectures that Euler's formula gives us another way to write a complex number $z=x+iy$ in terms of its polar coordinates $(r,\\theta)$ as\n",
        "\n",
        "$$x+iy=r\\cos(\\theta)+ir\\sin(\\theta)=re^{i\\theta}.$$\n",
        "\n",
        "\n",
        "## Example 5 \n",
        "\n",
        "* Use the modulus and argument from each of the complex numbers $z_1$, $z_2$, $z_3$, $z_4$ in __Example 1__ to confirm Euler's formula.\n",
        "\n",
        "\n",
        "### Solution\n",
        "\n",
        "\n",
        "* For $z_1=-1.4+3.5i$ we have:"
      ]
    },
    {
      "cell_type": "code",
      "metadata": {
        "id": "t2bYaYVUOEGb",
        "outputId": "c56196a1-467b-4625-d055-9a522a81cfe1",
        "colab": {
          "base_uri": "https://localhost:8080/",
          "height": 35
        }
      },
      "source": [
        "z1=complex(-1.4,3.5)\n",
        "r1=abs(z1)\n",
        "t1=cm.phase(z1)\n",
        "r1,t1"
      ],
      "execution_count": null,
      "outputs": [
        {
          "output_type": "execute_result",
          "data": {
            "text/plain": [
              "(3.7696153649941526, 1.9513027039072615)"
            ]
          },
          "metadata": {
            "tags": []
          },
          "execution_count": 26
        }
      ]
    },
    {
      "cell_type": "markdown",
      "metadata": {
        "id": "l0zG2lWcOEGf"
      },
      "source": [
        "* Note that we do not convert the phase __t1__ to degrees, since python usually defines angles using radians.  "
      ]
    },
    {
      "cell_type": "code",
      "metadata": {
        "id": "J527UkQ4OEGg",
        "outputId": "19f1ff6c-3532-4e08-e1e9-de739a71aff4",
        "colab": {
          "base_uri": "https://localhost:8080/",
          "height": 35
        }
      },
      "source": [
        "r1*cm.cos(t1)+1j*r1*cm.sin(t1)"
      ],
      "execution_count": null,
      "outputs": [
        {
          "output_type": "execute_result",
          "data": {
            "text/plain": [
              "(-1.3999999999999997+3.4999999999999996j)"
            ]
          },
          "metadata": {
            "tags": []
          },
          "execution_count": 27
        }
      ]
    },
    {
      "cell_type": "markdown",
      "metadata": {
        "id": "mKAvxzjFOEGi"
      },
      "source": [
        "We can round our answer to 1 decimal place as follows"
      ]
    },
    {
      "cell_type": "code",
      "metadata": {
        "id": "QMiIqgPuOEGj",
        "outputId": "5d5bd826-525d-4422-cbeb-52c30be002be",
        "colab": {
          "base_uri": "https://localhost:8080/",
          "height": 35
        }
      },
      "source": [
        "np.round(r1*cm.cos(t1)+1j*r1*cm.sin(t1),1) # The 1 indicate the number of decimal places to keep in the answer"
      ],
      "execution_count": null,
      "outputs": [
        {
          "output_type": "execute_result",
          "data": {
            "text/plain": [
              "(-1.4+3.5j)"
            ]
          },
          "metadata": {
            "tags": []
          },
          "execution_count": 28
        }
      ]
    },
    {
      "cell_type": "markdown",
      "metadata": {
        "id": "ryFYozwdOEGm"
      },
      "source": [
        "* We see that Eulers formula works.\n",
        "\n",
        "* We can also use the function __cm.exp()__ (i.e. the exponential function) to check this.\n",
        "\n",
        "* For $z_2$ we will check the exponenial form."
      ]
    },
    {
      "cell_type": "code",
      "metadata": {
        "id": "ixBrJz7eOEGn"
      },
      "source": [
        "z2=complex(5.7,-8.9)\n",
        "z3=complex(-12.8,-5.7)\n",
        "z4=complex(21.4,43.5)"
      ],
      "execution_count": null,
      "outputs": []
    },
    {
      "cell_type": "code",
      "metadata": {
        "id": "L7vSjWSxOEGp"
      },
      "source": [
        "r2=abs(z2)\n",
        "t2=cm.phase(z2)"
      ],
      "execution_count": null,
      "outputs": []
    },
    {
      "cell_type": "code",
      "metadata": {
        "id": "ZuM3S47SOEGs",
        "outputId": "d0f62cf2-8d1a-4078-9981-269885c83e7c",
        "colab": {
          "base_uri": "https://localhost:8080/",
          "height": 35
        }
      },
      "source": [
        "r2*cm.exp(1j*t2)"
      ],
      "execution_count": null,
      "outputs": [
        {
          "output_type": "execute_result",
          "data": {
            "text/plain": [
              "(5.7-8.9j)"
            ]
          },
          "metadata": {
            "tags": []
          },
          "execution_count": 31
        }
      ]
    },
    {
      "cell_type": "markdown",
      "metadata": {
        "id": "LV_lCSnxOEGv"
      },
      "source": [
        "* To avoid writing __1j__ everytime we want to write the imaginary unit, we can define"
      ]
    },
    {
      "cell_type": "code",
      "metadata": {
        "id": "ublB1_5eOEGw",
        "outputId": "3644ed8d-ef93-4361-8736-a6713da132cc",
        "colab": {
          "base_uri": "https://localhost:8080/",
          "height": 35
        }
      },
      "source": [
        "i=1j\n",
        "i"
      ],
      "execution_count": null,
      "outputs": [
        {
          "output_type": "execute_result",
          "data": {
            "text/plain": [
              "1j"
            ]
          },
          "metadata": {
            "tags": []
          },
          "execution_count": 32
        }
      ]
    },
    {
      "cell_type": "code",
      "metadata": {
        "id": "a7yRCvz_OEGz"
      },
      "source": [
        "r3=abs(z3)\n",
        "t3=cm.phase(z3)"
      ],
      "execution_count": null,
      "outputs": []
    },
    {
      "cell_type": "code",
      "metadata": {
        "id": "wlk6ANq5OEG0",
        "outputId": "6ba17f98-abeb-4868-8fe1-c983a2e090c6",
        "colab": {
          "base_uri": "https://localhost:8080/",
          "height": 35
        }
      },
      "source": [
        "np.round(r3*cm.exp(i*t3),1)"
      ],
      "execution_count": null,
      "outputs": [
        {
          "output_type": "execute_result",
          "data": {
            "text/plain": [
              "(-12.8-5.7j)"
            ]
          },
          "metadata": {
            "tags": []
          },
          "execution_count": 34
        }
      ]
    },
    {
      "cell_type": "code",
      "metadata": {
        "id": "b7FqWKPyOEG4"
      },
      "source": [
        "r4=abs(z4)\n",
        "t4=cm.phase(z4)"
      ],
      "execution_count": null,
      "outputs": []
    },
    {
      "cell_type": "code",
      "metadata": {
        "id": "tvYr7810OEG7",
        "outputId": "42f59e27-a60a-4110-dd4a-3ae4da6c108f",
        "colab": {
          "base_uri": "https://localhost:8080/",
          "height": 35
        }
      },
      "source": [
        "np.round(r4*cm.exp(i*t4),1)"
      ],
      "execution_count": null,
      "outputs": [
        {
          "output_type": "execute_result",
          "data": {
            "text/plain": [
              "(21.4+43.5j)"
            ]
          },
          "metadata": {
            "tags": []
          },
          "execution_count": 36
        }
      ]
    },
    {
      "cell_type": "markdown",
      "metadata": {
        "id": "iOtcqJcWOEG-"
      },
      "source": [
        "* Hence, Euler's formula works in every case"
      ]
    },
    {
      "cell_type": "code",
      "metadata": {
        "id": "0JLDwDbMOEG_"
      },
      "source": [
        ""
      ],
      "execution_count": null,
      "outputs": []
    },
    {
      "cell_type": "markdown",
      "metadata": {
        "id": "hjPck_YoOEHF"
      },
      "source": [
        "## Exercise 5\n",
        "\n",
        "* Use the modulus and argument from each of the complex numbers $w_1$, $w_2$, $w_3$, $w_4$ in __Exercise 1__ to confirm Euler's formula."
      ]
    },
    {
      "cell_type": "code",
      "metadata": {
        "id": "_biJW-2BOEHG"
      },
      "source": [
        ""
      ],
      "execution_count": null,
      "outputs": []
    },
    {
      "cell_type": "code",
      "metadata": {
        "id": "95jlLCb_OEHH"
      },
      "source": [
        ""
      ],
      "execution_count": null,
      "outputs": []
    },
    {
      "cell_type": "code",
      "metadata": {
        "id": "ywD9e21rOEHK"
      },
      "source": [
        ""
      ],
      "execution_count": null,
      "outputs": []
    },
    {
      "cell_type": "code",
      "metadata": {
        "id": "0hpuUHYUOEHN"
      },
      "source": [
        ""
      ],
      "execution_count": null,
      "outputs": []
    },
    {
      "cell_type": "code",
      "metadata": {
        "id": "qAPHbMmrOEHP"
      },
      "source": [
        ""
      ],
      "execution_count": null,
      "outputs": []
    },
    {
      "cell_type": "code",
      "metadata": {
        "id": "7Kqa0hGTOEHS"
      },
      "source": [
        ""
      ],
      "execution_count": null,
      "outputs": []
    },
    {
      "cell_type": "code",
      "metadata": {
        "id": "E2JtDnXpOEHU"
      },
      "source": [
        ""
      ],
      "execution_count": null,
      "outputs": []
    },
    {
      "cell_type": "markdown",
      "metadata": {
        "id": "GwT5yXkJti5D"
      },
      "source": [
        "# A function to plot 2 complex numbers"
      ]
    },
    {
      "cell_type": "code",
      "metadata": {
        "id": "4vqp3y7Ytmvm"
      },
      "source": [
        "def Plot2Complex(z1,z2):\n",
        "    limx=max(abs(np.real(z1)),abs(np.real(z2)))    \n",
        "    limy=max(abs(np.imag(z1)),abs(np.imag(z2)))    \n",
        "    plt.figure(figsize=(8,8))\n",
        "    plt.axhline(y=0,color='darkslategray')# Plot a horizontal x-axis\n",
        "    plt.axvline(x=0,color='darkslategray')# Plot a vertical y-axis\n",
        "    plt.plot([0,np.real(z1)],[0,np.imag(z1)],ls='--',color='xkcd:azure',lw=2.5) # Plot a dashed line joining the origin to z\n",
        "    plt.plot([np.real(z1)],[np.imag(z1)],'o',color='xkcd:red') # Plot an orange dot at the complex number\n",
        "    plt.plot([0,np.real(z2)],[0,np.imag(z2)],ls='--',color='xkcd:azure',lw=2.5) # Plot a dashed line joining the origin to z\n",
        "    plt.plot([np.real(z2)],[np.imag(z2)],'o',color='xkcd:red') # Plot an orange dot at the complex number\n",
        "    if np.imag(z1)<0:\n",
        "        plt.text(np.real(z1),1.08*np.imag(z1),'$%s - %sj$' % (np.real(z1),abs(np.imag(z1)))) # Label the point\n",
        "    if np.imag(z1)>=0:\n",
        "        plt.text(np.real(z1),1.08*np.imag(z1),'$%s + %sj$' % (np.real(z1),np.imag(z1))) # label the point\n",
        "    if np.imag(z2)<0:\n",
        "        plt.text(np.real(z2),1.08*np.imag(z2),'$%s - %sj$' % (np.real(z2),abs(np.imag(z2)))) # Label the point\n",
        "    if np.imag(z2)>=0:\n",
        "        plt.text(np.real(z2),1.08*np.imag(z2),'$%s + %sj$' % (np.real(z2),np.imag(z2))) # label the point\n",
        "    plt.xlim(-1.5*limx,1.5*limx) # Set the limits of the x-axis\n",
        "    plt.ylim(-1.5*limy,1.5*limy) # Set the limits of the y-axis"
      ],
      "execution_count": null,
      "outputs": []
    },
    {
      "cell_type": "markdown",
      "metadata": {
        "id": "PzZERgzXwZ9v"
      },
      "source": [
        "## Downloading the file\n",
        "\n",
        "* We are going the plot the complex numbers __z1__ and __z2__ from __Example 1__ using the function __Plot2Complex()__\n",
        "\n",
        "\n",
        "* We are going to save this figure as a pdf file and download it to our computer.\n",
        "\n",
        "* To download a file from colab, we need to following function"
      ]
    },
    {
      "cell_type": "code",
      "metadata": {
        "id": "9FbpyrPcw5Gu"
      },
      "source": [
        "from google.colab import files"
      ],
      "execution_count": null,
      "outputs": []
    },
    {
      "cell_type": "markdown",
      "metadata": {
        "id": "ditX_rzcxAOW"
      },
      "source": [
        "* Now we can plot and save the figure."
      ]
    },
    {
      "cell_type": "code",
      "metadata": {
        "id": "zT5rRUmZtpAz",
        "outputId": "8df8b632-99c8-4032-826b-4bccb1cb3aa7",
        "colab": {
          "base_uri": "https://localhost:8080/",
          "height": 483
        }
      },
      "source": [
        "Plot2Complex(z1,z2) # Plot the complex numbers z1 and z2 using Plot2Complex().\n",
        "plt.savefig('Plot_z1z2.pdf') # Save the figure as a pdf we call Plot_z1z2.\n",
        "files.download('Plot_z1z2.pdf')  #Download the pdf saved in the previous line."
      ],
      "execution_count": null,
      "outputs": [
        {
          "output_type": "display_data",
          "data": {
            "application/javascript": [
              "\n",
              "    async function download(id, filename, size) {\n",
              "      if (!google.colab.kernel.accessAllowed) {\n",
              "        return;\n",
              "      }\n",
              "      const div = document.createElement('div');\n",
              "      const label = document.createElement('label');\n",
              "      label.textContent = `Downloading \"${filename}\": `;\n",
              "      div.appendChild(label);\n",
              "      const progress = document.createElement('progress');\n",
              "      progress.max = size;\n",
              "      div.appendChild(progress);\n",
              "      document.body.appendChild(div);\n",
              "\n",
              "      const buffers = [];\n",
              "      let downloaded = 0;\n",
              "\n",
              "      const channel = await google.colab.kernel.comms.open(id);\n",
              "      // Send a message to notify the kernel that we're ready.\n",
              "      channel.send({})\n",
              "\n",
              "      for await (const message of channel.messages) {\n",
              "        // Send a message to notify the kernel that we're ready.\n",
              "        channel.send({})\n",
              "        if (message.buffers) {\n",
              "          for (const buffer of message.buffers) {\n",
              "            buffers.push(buffer);\n",
              "            downloaded += buffer.byteLength;\n",
              "            progress.value = downloaded;\n",
              "          }\n",
              "        }\n",
              "      }\n",
              "      const blob = new Blob(buffers, {type: 'application/binary'});\n",
              "      const a = document.createElement('a');\n",
              "      a.href = window.URL.createObjectURL(blob);\n",
              "      a.download = filename;\n",
              "      div.appendChild(a);\n",
              "      a.click();\n",
              "      div.remove();\n",
              "    }\n",
              "  "
            ],
            "text/plain": [
              "<IPython.core.display.Javascript object>"
            ]
          },
          "metadata": {
            "tags": []
          }
        },
        {
          "output_type": "display_data",
          "data": {
            "application/javascript": [
              "download(\"download_35d3d1e5-932b-4354-8893-455941f2841b\", \"Plot_z1z2.pdf\", 10047)"
            ],
            "text/plain": [
              "<IPython.core.display.Javascript object>"
            ]
          },
          "metadata": {
            "tags": []
          }
        },
        {
          "output_type": "display_data",
          "data": {
            "image/png": "[encoded data removed]",
            "text/plain": [
              "<Figure size 576x576 with 1 Axes>"
            ]
          },
          "metadata": {
            "tags": [],
            "needs_background": "light"
          }
        }
      ]
    },
    {
      "cell_type": "code",
      "metadata": {
        "id": "_ai6SBGPt2vx"
      },
      "source": [
        ""
      ],
      "execution_count": null,
      "outputs": []
    },
    {
      "cell_type": "code",
      "metadata": {
        "id": "iZAWbbqgD3iD"
      },
      "source": [
        ""
      ],
      "execution_count": null,
      "outputs": []
    },
    {
      "cell_type": "code",
      "metadata": {
        "id": "N3ruM1RaD3nh"
      },
      "source": [
        ""
      ],
      "execution_count": null,
      "outputs": []
    },
    {
      "cell_type": "markdown",
      "metadata": {
        "id": "potTZuOKK3YO"
      },
      "source": [
        "# Plotting Circuit Voltages & Currents\n",
        "\n",
        "## Lecture 8.pdf - Page 8 - Example 2\n",
        "\n",
        "\n",
        "* The __Voltage__ for this circuit is already given to be\n",
        "\n",
        "$$V(t)=100\\sin(20t)$$\n",
        "\n",
        "\n",
        "* We can define a __python function__ for this in the following way:"
      ]
    },
    {
      "cell_type": "code",
      "metadata": {
        "id": "4YOxUlBKD3qk"
      },
      "source": [
        "def V(t): # Define a function we call V, which depends on t\n",
        "  return 100*np.sin(20*t) # Say what the function does to t.\n",
        "                          # Use np.sin() to indicate sin() comes from the numpy library."
      ],
      "execution_count": 10,
      "outputs": []
    },
    {
      "cell_type": "markdown",
      "metadata": {
        "id": "kBGmiZkgMPFV"
      },
      "source": [
        "* We calculated the __current__ to be \n",
        "\n",
        "$$I(t)=3.98\\sin(20t+0.1).$$\n",
        "\n",
        "\n",
        "\n",
        "* Se can define a similar python function for this current as follows:"
      ]
    },
    {
      "cell_type": "code",
      "metadata": {
        "id": "jpzLYC4mD3vj"
      },
      "source": [
        "def I(t): # Define a function we call I, which depends on t\n",
        "  return 3.98*np.sin(20*t+0.1) # Say what the function does to t.\n",
        "                               # Use np.sin() to indicate sin() comes from the numpy library."
      ],
      "execution_count": 11,
      "outputs": []
    },
    {
      "cell_type": "markdown",
      "metadata": {
        "id": "csKNx3DcMyxY"
      },
      "source": [
        "* We can now use these functions to calculate the voltage and current at any time we like, e.g. at $t=1.3s$ and $t=4.2s$."
      ]
    },
    {
      "cell_type": "code",
      "metadata": {
        "id": "NDhi91NYEZed",
        "outputId": "de1dfb64-c1d8-4176-fe50-55c735e22143",
        "colab": {
          "base_uri": "https://localhost:8080/",
          "height": 36
        }
      },
      "source": [
        "V(1.3), I(1.3)"
      ],
      "execution_count": 12,
      "outputs": [
        {
          "output_type": "execute_result",
          "data": {
            "text/plain": [
              "(76.25584504796026, 3.2768653429375645)"
            ]
          },
          "metadata": {
            "tags": []
          },
          "execution_count": 12
        }
      ]
    },
    {
      "cell_type": "markdown",
      "metadata": {
        "id": "0xHp4qvvNMG7"
      },
      "source": [
        "* We can also plot these functions over a time interval.\n",
        "\n",
        "\n",
        "* We are going to plot the current and voltage above from 0 to 0.5 second.\n",
        "\n",
        "\n",
        "* First we need to create a sequence of time values between these two for the plot."
      ]
    },
    {
      "cell_type": "code",
      "metadata": {
        "id": "T5PBWpOINAJx",
        "outputId": "7993a12d-5e1c-4c6d-f264-fe007300b96c",
        "colab": {
          "base_uri": "https://localhost:8080/",
          "height": 535
        }
      },
      "source": [
        "t=np.linspace(0,0.5,251)\n",
        "t"
      ],
      "execution_count": 17,
      "outputs": [
        {
          "output_type": "execute_result",
          "data": {
            "text/plain": [
              "array([0.   , 0.002, 0.004, 0.006, 0.008, 0.01 , 0.012, 0.014, 0.016,\n",
              "       0.018, 0.02 , 0.022, 0.024, 0.026, 0.028, 0.03 , 0.032, 0.034,\n",
              "       0.036, 0.038, 0.04 , 0.042, 0.044, 0.046, 0.048, 0.05 , 0.052,\n",
              "       0.054, 0.056, 0.058, 0.06 , 0.062, 0.064, 0.066, 0.068, 0.07 ,\n",
              "       0.072, 0.074, 0.076, 0.078, 0.08 , 0.082, 0.084, 0.086, 0.088,\n",
              "       0.09 , 0.092, 0.094, 0.096, 0.098, 0.1  , 0.102, 0.104, 0.106,\n",
              "       0.108, 0.11 , 0.112, 0.114, 0.116, 0.118, 0.12 , 0.122, 0.124,\n",
              "       0.126, 0.128, 0.13 , 0.132, 0.134, 0.136, 0.138, 0.14 , 0.142,\n",
              "       0.144, 0.146, 0.148, 0.15 , 0.152, 0.154, 0.156, 0.158, 0.16 ,\n",
              "       0.162, 0.164, 0.166, 0.168, 0.17 , 0.172, 0.174, 0.176, 0.178,\n",
              "       0.18 , 0.182, 0.184, 0.186, 0.188, 0.19 , 0.192, 0.194, 0.196,\n",
              "       0.198, 0.2  , 0.202, 0.204, 0.206, 0.208, 0.21 , 0.212, 0.214,\n",
              "       0.216, 0.218, 0.22 , 0.222, 0.224, 0.226, 0.228, 0.23 , 0.232,\n",
              "       0.234, 0.236, 0.238, 0.24 , 0.242, 0.244, 0.246, 0.248, 0.25 ,\n",
              "       0.252, 0.254, 0.256, 0.258, 0.26 , 0.262, 0.264, 0.266, 0.268,\n",
              "       0.27 , 0.272, 0.274, 0.276, 0.278, 0.28 , 0.282, 0.284, 0.286,\n",
              "       0.288, 0.29 , 0.292, 0.294, 0.296, 0.298, 0.3  , 0.302, 0.304,\n",
              "       0.306, 0.308, 0.31 , 0.312, 0.314, 0.316, 0.318, 0.32 , 0.322,\n",
              "       0.324, 0.326, 0.328, 0.33 , 0.332, 0.334, 0.336, 0.338, 0.34 ,\n",
              "       0.342, 0.344, 0.346, 0.348, 0.35 , 0.352, 0.354, 0.356, 0.358,\n",
              "       0.36 , 0.362, 0.364, 0.366, 0.368, 0.37 , 0.372, 0.374, 0.376,\n",
              "       0.378, 0.38 , 0.382, 0.384, 0.386, 0.388, 0.39 , 0.392, 0.394,\n",
              "       0.396, 0.398, 0.4  , 0.402, 0.404, 0.406, 0.408, 0.41 , 0.412,\n",
              "       0.414, 0.416, 0.418, 0.42 , 0.422, 0.424, 0.426, 0.428, 0.43 ,\n",
              "       0.432, 0.434, 0.436, 0.438, 0.44 , 0.442, 0.444, 0.446, 0.448,\n",
              "       0.45 , 0.452, 0.454, 0.456, 0.458, 0.46 , 0.462, 0.464, 0.466,\n",
              "       0.468, 0.47 , 0.472, 0.474, 0.476, 0.478, 0.48 , 0.482, 0.484,\n",
              "       0.486, 0.488, 0.49 , 0.492, 0.494, 0.496, 0.498, 0.5  ])"
            ]
          },
          "metadata": {
            "tags": []
          },
          "execution_count": 17
        }
      ]
    },
    {
      "cell_type": "markdown",
      "metadata": {
        "id": "rPpVHDEbNyrU"
      },
      "source": [
        "* This has created a sequence of 251 t-values starting at 0 and ending at 1. \n",
        "\n",
        "\n",
        "\n",
        "* We now plot the voltage and current at these t-values."
      ]
    },
    {
      "cell_type": "code",
      "metadata": {
        "id": "1f1RBKgsNuT7",
        "outputId": "eb5ee494-998f-4a3e-881d-e0d91bd9e8bf",
        "colab": {
          "base_uri": "https://localhost:8080/",
          "height": 284
        }
      },
      "source": [
        "plt.plot(t,V(t),color='blue')\n",
        "plt.plot(t,I(t),color='red')"
      ],
      "execution_count": 19,
      "outputs": [
        {
          "output_type": "execute_result",
          "data": {
            "text/plain": [
              "[<matplotlib.lines.Line2D at 0x7f866d4a9860>]"
            ]
          },
          "metadata": {
            "tags": []
          },
          "execution_count": 19
        },
        {
          "output_type": "display_data",
          "data": {
            "image/png": "[encoded data removed]",
            "text/plain": [
              "<Figure size 432x288 with 1 Axes>"
            ]
          },
          "metadata": {
            "tags": [],
            "needs_background": "light"
          }
        }
      ]
    },
    {
      "cell_type": "markdown",
      "metadata": {
        "id": "GuHWoZgIOWsJ"
      },
      "source": [
        "* The voltage has an amplitude of 100, while the current has a an amplitude of 3.98, so the voltage appears much ``bigger'' than the current\n",
        "\n",
        "\n",
        "* To make the plots the same size, just divide each function by its amplitide."
      ]
    },
    {
      "cell_type": "code",
      "metadata": {
        "id": "Q6nU1ndPOLG2",
        "outputId": "833436a9-af8a-4b3a-f9d0-b839ffd82394",
        "colab": {
          "base_uri": "https://localhost:8080/",
          "height": 284
        }
      },
      "source": [
        "plt.plot(t,V(t)/100,color='blue')\n",
        "plt.plot(t,I(t)/3.98,color='red')"
      ],
      "execution_count": 20,
      "outputs": [
        {
          "output_type": "execute_result",
          "data": {
            "text/plain": [
              "[<matplotlib.lines.Line2D at 0x7f866ce37eb8>]"
            ]
          },
          "metadata": {
            "tags": []
          },
          "execution_count": 20
        },
        {
          "output_type": "display_data",
          "data": {
            "image/png": "[encoded data removed]",
            "text/plain": [
              "<Figure size 432x288 with 1 Axes>"
            ]
          },
          "metadata": {
            "tags": [],
            "needs_background": "light"
          }
        }
      ]
    },
    {
      "cell_type": "markdown",
      "metadata": {
        "id": "WEHlv5ZNPb8g"
      },
      "source": [
        "* Now it is clear to see that the red curve slightly lags the blue curve.\n",
        "\n",
        "\n",
        "* This is due to the pahse shift of 0.1 radians in the current $I(t).$"
      ]
    },
    {
      "cell_type": "code",
      "metadata": {
        "id": "UrC54867POTI"
      },
      "source": [
        ""
      ],
      "execution_count": 20,
      "outputs": []
    },
    {
      "cell_type": "code",
      "metadata": {
        "id": "KievSnWyP0pL"
      },
      "source": [
        ""
      ],
      "execution_count": null,
      "outputs": []
    },
    {
      "cell_type": "code",
      "metadata": {
        "id": "MSJpVjAaP0uW"
      },
      "source": [
        ""
      ],
      "execution_count": null,
      "outputs": []
    },
    {
      "cell_type": "code",
      "metadata": {
        "id": "TYpam3w_P01G"
      },
      "source": [
        ""
      ],
      "execution_count": null,
      "outputs": []
    },
    {
      "cell_type": "code",
      "metadata": {
        "id": "Xl8Cht57P03z"
      },
      "source": [
        ""
      ],
      "execution_count": null,
      "outputs": []
    },
    {
      "cell_type": "code",
      "metadata": {
        "id": "bfHxsH6kP06v"
      },
      "source": [
        ""
      ],
      "execution_count": null,
      "outputs": []
    },
    {
      "cell_type": "code",
      "metadata": {
        "id": "fRmn2QxrP0sI"
      },
      "source": [
        ""
      ],
      "execution_count": null,
      "outputs": []
    }
  ]
}