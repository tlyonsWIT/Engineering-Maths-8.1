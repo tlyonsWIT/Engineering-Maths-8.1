{
  "nbformat": 4,
  "nbformat_minor": 0,
  "metadata": {
    "kernelspec": {
      "display_name": "Python 3",
      "language": "python",
      "name": "python3"
    },
    "language_info": {
      "codemirror_mode": {
        "name": "ipython",
        "version": 3
      },
      "file_extension": ".py",
      "mimetype": "text/x-python",
      "name": "python",
      "nbconvert_exporter": "python",
      "pygments_lexer": "ipython3",
      "version": "3.8.3"
    },
    "colab": {
      "name": "Engineering Maths 8.1 - Python Workbook 4.ipynb",
      "provenance": []
    }
  },
  "cells": [
    {
      "cell_type": "markdown",
      "metadata": {
        "id": "MRb8nllYE0dS"
      },
      "source": [
        "# Engineering Maths 8.1 2020\n",
        "\n",
        "## Monday, 2 November 11:15 a.m."
      ]
    },
    {
      "cell_type": "markdown",
      "metadata": {
        "id": "OBa_6AkvE0dW"
      },
      "source": [
        "# Defining & plotting functions\n",
        "\n",
        "\n",
        "* In most cases we will need the libraris __numpy__ and __matplotlib__ which we import as follows"
      ]
    },
    {
      "cell_type": "code",
      "metadata": {
        "id": "Ik6LFQF5E0da"
      },
      "source": [
        "import numpy as np\n",
        "import matplotlib.pyplot as plt"
      ],
      "execution_count": 1,
      "outputs": []
    },
    {
      "cell_type": "markdown",
      "metadata": {
        "id": "l2JmHKM_E0du"
      },
      "source": [
        "* We also import a few useful functions from the __numpy__ library for conveniences"
      ]
    },
    {
      "cell_type": "code",
      "metadata": {
        "id": "W5L9dkqOE0dx"
      },
      "source": [
        "from numpy import cos, sin, tan, log, exp, sqrt, pi "
      ],
      "execution_count": 2,
      "outputs": []
    },
    {
      "cell_type": "markdown",
      "metadata": {
        "id": "-TKjluu1E0d5"
      },
      "source": [
        "## Example 1\n",
        "\n",
        "\n",
        "* Define a __python function__ for\n",
        "\n",
        "$$f(x)=\\cos(x)-e^{-\\sin(x)}.$$"
      ]
    },
    {
      "cell_type": "code",
      "metadata": {
        "id": "a-jQyNVJE0d7"
      },
      "source": [
        "def f(x):\n",
        "    return cos(x)-exp(-sin(x))"
      ],
      "execution_count": null,
      "outputs": []
    },
    {
      "cell_type": "markdown",
      "metadata": {
        "id": "3gUP1xrqE0eF"
      },
      "source": [
        "## Example 2\n",
        "\n",
        "* Plot this function on the interval \n",
        "\n",
        "$$-5\\leq x\\leq 5.$$\n",
        "\n",
        "\n",
        "### Solution\n",
        "\n",
        "\n",
        "* If we were doing this by hand, we would find the length of our interval as follows"
      ]
    },
    {
      "cell_type": "code",
      "metadata": {
        "id": "Ylsa4lscE0eH",
        "outputId": "8874a5c7-1d3b-4d2a-e024-6b79417bc405"
      },
      "source": [
        "l=5-(-5)\n",
        "l"
      ],
      "execution_count": null,
      "outputs": [
        {
          "output_type": "execute_result",
          "data": {
            "text/plain": [
              "10"
            ]
          },
          "metadata": {
            "tags": []
          },
          "execution_count": 22
        }
      ]
    },
    {
      "cell_type": "markdown",
      "metadata": {
        "id": "TXGN7S6gE0eU"
      },
      "source": [
        "* Next we would divide this number by the number of steps for the plot.\n",
        "\n",
        "\n",
        "* Since we have a comouter available, we can take a lot more steps without causing any extra work for us.\n",
        "\n",
        "\n",
        "* We will take $N=20$ steps."
      ]
    },
    {
      "cell_type": "code",
      "metadata": {
        "id": "GkWlVngoE0eY",
        "outputId": "8b4a4b3b-8fb5-4d82-ee6f-a669c6e885fb"
      },
      "source": [
        "N=20\n",
        "N"
      ],
      "execution_count": null,
      "outputs": [
        {
          "output_type": "execute_result",
          "data": {
            "text/plain": [
              "20"
            ]
          },
          "metadata": {
            "tags": []
          },
          "execution_count": 23
        }
      ]
    },
    {
      "cell_type": "markdown",
      "metadata": {
        "id": "XvB4nIpiE0ek"
      },
      "source": [
        "* The __step-size__ is given by"
      ]
    },
    {
      "cell_type": "code",
      "metadata": {
        "id": "Ajp1m_IaE0em",
        "outputId": "c8b8f312-d81b-4b81-e997-0997902926fd"
      },
      "source": [
        "s=l/N\n",
        "s"
      ],
      "execution_count": null,
      "outputs": [
        {
          "output_type": "execute_result",
          "data": {
            "text/plain": [
              "0.5"
            ]
          },
          "metadata": {
            "tags": []
          },
          "execution_count": 24
        }
      ]
    },
    {
      "cell_type": "markdown",
      "metadata": {
        "id": "zDnb9XjVE0es"
      },
      "source": [
        "* We use the function __np.arange()__ to create a list of values starting at $-5$, ennding at $5$ with a step-size __s__ between each value."
      ]
    },
    {
      "cell_type": "code",
      "metadata": {
        "id": "cAq7f5QAE0et",
        "outputId": "74e8351f-f66d-4fbe-af6c-75c3023f0481"
      },
      "source": [
        "X=np.arange(-5,5,s)\n",
        "X"
      ],
      "execution_count": null,
      "outputs": [
        {
          "output_type": "execute_result",
          "data": {
            "text/plain": [
              "array([-5. , -4.5, -4. , -3.5, -3. , -2.5, -2. , -1.5, -1. , -0.5,  0. ,\n",
              "        0.5,  1. ,  1.5,  2. ,  2.5,  3. ,  3.5,  4. ,  4.5])"
            ]
          },
          "metadata": {
            "tags": []
          },
          "execution_count": 25
        }
      ]
    },
    {
      "cell_type": "markdown",
      "metadata": {
        "id": "CzAy2zMWE0e1"
      },
      "source": [
        "* Notice that __X__ does not contain the end-point.\n",
        "\n",
        "* We can change this by changing the end-point to __5.5__ to give"
      ]
    },
    {
      "cell_type": "code",
      "metadata": {
        "id": "ux80dRKnE0e2",
        "outputId": "c5d1ef1c-e803-47fd-d001-adced7851817"
      },
      "source": [
        "X=np.arange(-5,5.5,s)\n",
        "X"
      ],
      "execution_count": null,
      "outputs": [
        {
          "output_type": "execute_result",
          "data": {
            "text/plain": [
              "array([-5. , -4.5, -4. , -3.5, -3. , -2.5, -2. , -1.5, -1. , -0.5,  0. ,\n",
              "        0.5,  1. ,  1.5,  2. ,  2.5,  3. ,  3.5,  4. ,  4.5,  5. ])"
            ]
          },
          "metadata": {
            "tags": []
          },
          "execution_count": 26
        }
      ]
    },
    {
      "cell_type": "markdown",
      "metadata": {
        "id": "eb5YJJz9E0e-"
      },
      "source": [
        "* The plot of the function is given by"
      ]
    },
    {
      "cell_type": "code",
      "metadata": {
        "id": "tJM21yZ7E0fA",
        "outputId": "70aa4f17-b1ca-417d-da28-c017c0f0c7c9"
      },
      "source": [
        "plt.plot(X,f(X))\n",
        "plt.xlabel('x')\n",
        "plt.ylabel('f(x)')"
      ],
      "execution_count": null,
      "outputs": [
        {
          "output_type": "execute_result",
          "data": {
            "text/plain": [
              "Text(0, 0.5, 'f(x)')"
            ]
          },
          "metadata": {
            "tags": []
          },
          "execution_count": 27
        },
        {
          "output_type": "display_data",
          "data": {
            "image/png": "[encoded data removed]",
            "text/plain": [
              "<Figure size 432x288 with 1 Axes>"
            ]
          },
          "metadata": {
            "tags": [],
            "needs_background": "light"
          }
        }
      ]
    },
    {
      "cell_type": "markdown",
      "metadata": {
        "id": "iO3eUYIIE0fK"
      },
      "source": [
        "* Very jagged!!\n",
        "\n",
        "\n",
        "* We can smooth this out by increasing the number of steps.\n",
        "\n",
        "\n",
        "* We will now use __N=250__ steps instead"
      ]
    },
    {
      "cell_type": "code",
      "metadata": {
        "id": "Vx_qcA7ME0fM",
        "outputId": "2fd35006-7b99-4715-ca8a-4a5f6faabc58"
      },
      "source": [
        "N=250\n",
        "s=l/N\n",
        "s"
      ],
      "execution_count": null,
      "outputs": [
        {
          "output_type": "execute_result",
          "data": {
            "text/plain": [
              "0.04"
            ]
          },
          "metadata": {
            "tags": []
          },
          "execution_count": 28
        }
      ]
    },
    {
      "cell_type": "code",
      "metadata": {
        "id": "2oAOYB6jE0fU",
        "outputId": "8ed73695-2f49-4fe8-8b99-eac671f75254"
      },
      "source": [
        "X=np.arange(-5,5+s,s)\n",
        "X"
      ],
      "execution_count": null,
      "outputs": [
        {
          "output_type": "execute_result",
          "data": {
            "text/plain": [
              "array([-5.0000000e+00, -4.9600000e+00, -4.9200000e+00, -4.8800000e+00,\n",
              "       -4.8400000e+00, -4.8000000e+00, -4.7600000e+00, -4.7200000e+00,\n",
              "       -4.6800000e+00, -4.6400000e+00, -4.6000000e+00, -4.5600000e+00,\n",
              "       -4.5200000e+00, -4.4800000e+00, -4.4400000e+00, -4.4000000e+00,\n",
              "       -4.3600000e+00, -4.3200000e+00, -4.2800000e+00, -4.2400000e+00,\n",
              "       -4.2000000e+00, -4.1600000e+00, -4.1200000e+00, -4.0800000e+00,\n",
              "       -4.0400000e+00, -4.0000000e+00, -3.9600000e+00, -3.9200000e+00,\n",
              "       -3.8800000e+00, -3.8400000e+00, -3.8000000e+00, -3.7600000e+00,\n",
              "       -3.7200000e+00, -3.6800000e+00, -3.6400000e+00, -3.6000000e+00,\n",
              "       -3.5600000e+00, -3.5200000e+00, -3.4800000e+00, -3.4400000e+00,\n",
              "       -3.4000000e+00, -3.3600000e+00, -3.3200000e+00, -3.2800000e+00,\n",
              "       -3.2400000e+00, -3.2000000e+00, -3.1600000e+00, -3.1200000e+00,\n",
              "       -3.0800000e+00, -3.0400000e+00, -3.0000000e+00, -2.9600000e+00,\n",
              "       -2.9200000e+00, -2.8800000e+00, -2.8400000e+00, -2.8000000e+00,\n",
              "       -2.7600000e+00, -2.7200000e+00, -2.6800000e+00, -2.6400000e+00,\n",
              "       -2.6000000e+00, -2.5600000e+00, -2.5200000e+00, -2.4800000e+00,\n",
              "       -2.4400000e+00, -2.4000000e+00, -2.3600000e+00, -2.3200000e+00,\n",
              "       -2.2800000e+00, -2.2400000e+00, -2.2000000e+00, -2.1600000e+00,\n",
              "       -2.1200000e+00, -2.0800000e+00, -2.0400000e+00, -2.0000000e+00,\n",
              "       -1.9600000e+00, -1.9200000e+00, -1.8800000e+00, -1.8400000e+00,\n",
              "       -1.8000000e+00, -1.7600000e+00, -1.7200000e+00, -1.6800000e+00,\n",
              "       -1.6400000e+00, -1.6000000e+00, -1.5600000e+00, -1.5200000e+00,\n",
              "       -1.4800000e+00, -1.4400000e+00, -1.4000000e+00, -1.3600000e+00,\n",
              "       -1.3200000e+00, -1.2800000e+00, -1.2400000e+00, -1.2000000e+00,\n",
              "       -1.1600000e+00, -1.1200000e+00, -1.0800000e+00, -1.0400000e+00,\n",
              "       -1.0000000e+00, -9.6000000e-01, -9.2000000e-01, -8.8000000e-01,\n",
              "       -8.4000000e-01, -8.0000000e-01, -7.6000000e-01, -7.2000000e-01,\n",
              "       -6.8000000e-01, -6.4000000e-01, -6.0000000e-01, -5.6000000e-01,\n",
              "       -5.2000000e-01, -4.8000000e-01, -4.4000000e-01, -4.0000000e-01,\n",
              "       -3.6000000e-01, -3.2000000e-01, -2.8000000e-01, -2.4000000e-01,\n",
              "       -2.0000000e-01, -1.6000000e-01, -1.2000000e-01, -8.0000000e-02,\n",
              "       -4.0000000e-02,  4.4408921e-15,  4.0000000e-02,  8.0000000e-02,\n",
              "        1.2000000e-01,  1.6000000e-01,  2.0000000e-01,  2.4000000e-01,\n",
              "        2.8000000e-01,  3.2000000e-01,  3.6000000e-01,  4.0000000e-01,\n",
              "        4.4000000e-01,  4.8000000e-01,  5.2000000e-01,  5.6000000e-01,\n",
              "        6.0000000e-01,  6.4000000e-01,  6.8000000e-01,  7.2000000e-01,\n",
              "        7.6000000e-01,  8.0000000e-01,  8.4000000e-01,  8.8000000e-01,\n",
              "        9.2000000e-01,  9.6000000e-01,  1.0000000e+00,  1.0400000e+00,\n",
              "        1.0800000e+00,  1.1200000e+00,  1.1600000e+00,  1.2000000e+00,\n",
              "        1.2400000e+00,  1.2800000e+00,  1.3200000e+00,  1.3600000e+00,\n",
              "        1.4000000e+00,  1.4400000e+00,  1.4800000e+00,  1.5200000e+00,\n",
              "        1.5600000e+00,  1.6000000e+00,  1.6400000e+00,  1.6800000e+00,\n",
              "        1.7200000e+00,  1.7600000e+00,  1.8000000e+00,  1.8400000e+00,\n",
              "        1.8800000e+00,  1.9200000e+00,  1.9600000e+00,  2.0000000e+00,\n",
              "        2.0400000e+00,  2.0800000e+00,  2.1200000e+00,  2.1600000e+00,\n",
              "        2.2000000e+00,  2.2400000e+00,  2.2800000e+00,  2.3200000e+00,\n",
              "        2.3600000e+00,  2.4000000e+00,  2.4400000e+00,  2.4800000e+00,\n",
              "        2.5200000e+00,  2.5600000e+00,  2.6000000e+00,  2.6400000e+00,\n",
              "        2.6800000e+00,  2.7200000e+00,  2.7600000e+00,  2.8000000e+00,\n",
              "        2.8400000e+00,  2.8800000e+00,  2.9200000e+00,  2.9600000e+00,\n",
              "        3.0000000e+00,  3.0400000e+00,  3.0800000e+00,  3.1200000e+00,\n",
              "        3.1600000e+00,  3.2000000e+00,  3.2400000e+00,  3.2800000e+00,\n",
              "        3.3200000e+00,  3.3600000e+00,  3.4000000e+00,  3.4400000e+00,\n",
              "        3.4800000e+00,  3.5200000e+00,  3.5600000e+00,  3.6000000e+00,\n",
              "        3.6400000e+00,  3.6800000e+00,  3.7200000e+00,  3.7600000e+00,\n",
              "        3.8000000e+00,  3.8400000e+00,  3.8800000e+00,  3.9200000e+00,\n",
              "        3.9600000e+00,  4.0000000e+00,  4.0400000e+00,  4.0800000e+00,\n",
              "        4.1200000e+00,  4.1600000e+00,  4.2000000e+00,  4.2400000e+00,\n",
              "        4.2800000e+00,  4.3200000e+00,  4.3600000e+00,  4.4000000e+00,\n",
              "        4.4400000e+00,  4.4800000e+00,  4.5200000e+00,  4.5600000e+00,\n",
              "        4.6000000e+00,  4.6400000e+00,  4.6800000e+00,  4.7200000e+00,\n",
              "        4.7600000e+00,  4.8000000e+00,  4.8400000e+00,  4.8800000e+00,\n",
              "        4.9200000e+00,  4.9600000e+00,  5.0000000e+00])"
            ]
          },
          "metadata": {
            "tags": []
          },
          "execution_count": 29
        }
      ]
    },
    {
      "cell_type": "code",
      "metadata": {
        "id": "kWV2ZKAHE0fb",
        "outputId": "f60c7531-3e10-4c4f-fef6-d52c457f0424"
      },
      "source": [
        "plt.plot(X,f(X))\n",
        "plt.xlabel('x')\n",
        "plt.ylabel('f(x)')"
      ],
      "execution_count": null,
      "outputs": [
        {
          "output_type": "execute_result",
          "data": {
            "text/plain": [
              "Text(0, 0.5, 'f(x)')"
            ]
          },
          "metadata": {
            "tags": []
          },
          "execution_count": 30
        },
        {
          "output_type": "display_data",
          "data": {
            "image/png": "[encoded data removed]",
            "text/plain": [
              "<Figure size 432x288 with 1 Axes>"
            ]
          },
          "metadata": {
            "tags": [],
            "needs_background": "light"
          }
        }
      ]
    },
    {
      "cell_type": "code",
      "metadata": {
        "id": "ZPOyFQ40E0fi"
      },
      "source": [
        ""
      ],
      "execution_count": null,
      "outputs": []
    },
    {
      "cell_type": "code",
      "metadata": {
        "id": "G-KBHExKFIS0"
      },
      "source": [
        ""
      ],
      "execution_count": null,
      "outputs": []
    },
    {
      "cell_type": "markdown",
      "metadata": {
        "id": "yshms4JEFIzw"
      },
      "source": [
        "# Rational Functions\n",
        "\n",
        "$$f(x)= \\frac{8x-5}{x-3}.$$\n",
        "\n",
        "\n",
        "1. Find the vertical asymptote of $f$\n",
        "\n",
        "\n",
        "2. Find the horizontal asymptote of f.\n",
        "\n",
        "\n",
        "3. Plot the function about the vertical asymptote."
      ]
    },
    {
      "cell_type": "markdown",
      "metadata": {
        "id": "S6RKGT2kF7ZY"
      },
      "source": [
        "Solution 1. Ther vertical asymptote is at x=3."
      ]
    },
    {
      "cell_type": "markdown",
      "metadata": {
        "id": "8w_CQtwgHsyC"
      },
      "source": [
        ""
      ]
    },
    {
      "cell_type": "markdown",
      "metadata": {
        "id": "idD4MWwfGLGF"
      },
      "source": [
        "Solution 2.\n",
        "\n",
        "* To find the horisontal asynptote we want to evaluate the function as x gets large in the positive and negative directions.\n",
        "\n",
        "\n",
        "* To do this we define the function in python.\n",
        "\n",
        "\n",
        "* We then create an __array__ of large numbers to evaluate the funciont on."
      ]
    },
    {
      "cell_type": "code",
      "metadata": {
        "id": "yi3IYOHIFkVd"
      },
      "source": [
        "def f(x):\n",
        "  return (8*x-5)/(x-3)"
      ],
      "execution_count": 11,
      "outputs": []
    },
    {
      "cell_type": "code",
      "metadata": {
        "id": "dCEYceWUG0Z_"
      },
      "source": [
        "X=np.array([105, 1058,10001,250745,1000000,10000000000000])"
      ],
      "execution_count": 14,
      "outputs": []
    },
    {
      "cell_type": "code",
      "metadata": {
        "id": "lnLpM2FMIYzK",
        "outputId": "11a2eb12-219b-4967-dc98-a0675138bba4",
        "colab": {
          "base_uri": "https://localhost:8080/"
        }
      },
      "source": [
        "-X"
      ],
      "execution_count": 16,
      "outputs": [
        {
          "output_type": "execute_result",
          "data": {
            "text/plain": [
              "array([           -105,           -1058,          -10001,         -250745,\n",
              "              -1000000, -10000000000000])"
            ]
          },
          "metadata": {
            "tags": []
          },
          "execution_count": 16
        }
      ]
    },
    {
      "cell_type": "code",
      "metadata": {
        "id": "NZuVkUIiH9wb",
        "outputId": "20c7edbf-e2b1-43fe-efaa-9ffb96b0e933",
        "colab": {
          "base_uri": "https://localhost:8080/"
        }
      },
      "source": [
        "f(X)"
      ],
      "execution_count": 15,
      "outputs": [
        {
          "output_type": "execute_result",
          "data": {
            "text/plain": [
              "array([8.18627451, 8.01800948, 8.00190038, 8.00007578, 8.000019  ,\n",
              "       8.        ])"
            ]
          },
          "metadata": {
            "tags": []
          },
          "execution_count": 15
        }
      ]
    },
    {
      "cell_type": "code",
      "metadata": {
        "id": "z1baIrh1IBdF",
        "outputId": "74fce3d8-7a36-4e15-e50d-fcea1c3fe6d6",
        "colab": {
          "base_uri": "https://localhost:8080/"
        }
      },
      "source": [
        "f(-X)"
      ],
      "execution_count": 17,
      "outputs": [
        {
          "output_type": "execute_result",
          "data": {
            "text/plain": [
              "array([7.82407407, 7.98209237, 7.99810076, 7.99992423, 7.999981  ,\n",
              "       8.        ])"
            ]
          },
          "metadata": {
            "tags": []
          },
          "execution_count": 17
        }
      ]
    },
    {
      "cell_type": "code",
      "metadata": {
        "id": "nYsLzYlRIdAc",
        "outputId": "112ac5eb-f968-4aea-c5e1-891d50134ca7",
        "colab": {
          "base_uri": "https://localhost:8080/"
        }
      },
      "source": [
        "x=np.linspace(3-2,3+2,101)\n",
        "x"
      ],
      "execution_count": 25,
      "outputs": [
        {
          "output_type": "execute_result",
          "data": {
            "text/plain": [
              "array([1.  , 1.04, 1.08, 1.12, 1.16, 1.2 , 1.24, 1.28, 1.32, 1.36, 1.4 ,\n",
              "       1.44, 1.48, 1.52, 1.56, 1.6 , 1.64, 1.68, 1.72, 1.76, 1.8 , 1.84,\n",
              "       1.88, 1.92, 1.96, 2.  , 2.04, 2.08, 2.12, 2.16, 2.2 , 2.24, 2.28,\n",
              "       2.32, 2.36, 2.4 , 2.44, 2.48, 2.52, 2.56, 2.6 , 2.64, 2.68, 2.72,\n",
              "       2.76, 2.8 , 2.84, 2.88, 2.92, 2.96, 3.  , 3.04, 3.08, 3.12, 3.16,\n",
              "       3.2 , 3.24, 3.28, 3.32, 3.36, 3.4 , 3.44, 3.48, 3.52, 3.56, 3.6 ,\n",
              "       3.64, 3.68, 3.72, 3.76, 3.8 , 3.84, 3.88, 3.92, 3.96, 4.  , 4.04,\n",
              "       4.08, 4.12, 4.16, 4.2 , 4.24, 4.28, 4.32, 4.36, 4.4 , 4.44, 4.48,\n",
              "       4.52, 4.56, 4.6 , 4.64, 4.68, 4.72, 4.76, 4.8 , 4.84, 4.88, 4.92,\n",
              "       4.96, 5.  ])"
            ]
          },
          "metadata": {
            "tags": []
          },
          "execution_count": 25
        }
      ]
    },
    {
      "cell_type": "code",
      "metadata": {
        "id": "QTrt9fMCIyJK",
        "outputId": "1744608f-a6e5-4667-adef-edfbf10c17fc",
        "colab": {
          "base_uri": "https://localhost:8080/",
          "height": 317
        }
      },
      "source": [
        "plt.plot(x,f(x))\n",
        "plt.axhline(8,color='gray')\n",
        "plt.axvline(3,color='gray')"
      ],
      "execution_count": 26,
      "outputs": [
        {
          "output_type": "stream",
          "text": [
            "/usr/local/lib/python3.6/dist-packages/ipykernel_launcher.py:2: RuntimeWarning: divide by zero encountered in true_divide\n",
            "  \n"
          ],
          "name": "stderr"
        },
        {
          "output_type": "execute_result",
          "data": {
            "text/plain": [
              "<matplotlib.lines.Line2D at 0x7fee08c32390>"
            ]
          },
          "metadata": {
            "tags": []
          },
          "execution_count": 26
        },
        {
          "output_type": "display_data",
          "data": {
            "image/png": "[encoded data removed]",
            "text/plain": [
              "<Figure size 432x288 with 1 Axes>"
            ]
          },
          "metadata": {
            "tags": [],
            "needs_background": "light"
          }
        }
      ]
    },
    {
      "cell_type": "code",
      "metadata": {
        "id": "u2uQk-roJGdn"
      },
      "source": [
        ""
      ],
      "execution_count": null,
      "outputs": []
    },
    {
      "cell_type": "markdown",
      "metadata": {
        "id": "RtBrKsBsKJCB"
      },
      "source": [
        "Given the function\n",
        "\n",
        "$$g(x)=\\frac{9x+8}{2x-1}$$\n",
        "\n",
        "1. Find the vertical asymptote of the function\n",
        "\n",
        "\n",
        "2. Find the horizontal asymptote of the function\n",
        "\n",
        "\n",
        "3. Plot the graph of the function about the vertical asymptote, showing the horizontal and vertical asymptotes also."
      ]
    },
    {
      "cell_type": "markdown",
      "metadata": {
        "id": "_8-5ulFnNsfJ"
      },
      "source": [
        "Soution 1.\n",
        "\n",
        "* The vertical asymptote is at $2x-1=0$ i.e. $x=1/2.$"
      ]
    },
    {
      "cell_type": "code",
      "metadata": {
        "id": "1slecf6PKjsA"
      },
      "source": [
        "def g(x):\n",
        "  return (9*x+8)/(2*x-1)"
      ],
      "execution_count": 28,
      "outputs": []
    },
    {
      "cell_type": "code",
      "metadata": {
        "id": "QbcTI2ZkMec6"
      },
      "source": [
        "X=np.array([1000,10000,100000,10000000])"
      ],
      "execution_count": 29,
      "outputs": []
    },
    {
      "cell_type": "code",
      "metadata": {
        "id": "AE5RHC2LN_GQ",
        "outputId": "4253b7bc-10b0-4358-e671-e861e9c18663",
        "colab": {
          "base_uri": "https://localhost:8080/"
        }
      },
      "source": [
        "g(X)"
      ],
      "execution_count": 30,
      "outputs": [
        {
          "output_type": "execute_result",
          "data": {
            "text/plain": [
              "array([4.50625313, 4.50062503, 4.5000625 , 4.50000063])"
            ]
          },
          "metadata": {
            "tags": []
          },
          "execution_count": 30
        }
      ]
    },
    {
      "cell_type": "code",
      "metadata": {
        "id": "GCqtjru4OAJm",
        "outputId": "3c2ea9bd-f213-4ea8-98ce-7f60e997448f",
        "colab": {
          "base_uri": "https://localhost:8080/"
        }
      },
      "source": [
        "g(-X)"
      ],
      "execution_count": 31,
      "outputs": [
        {
          "output_type": "execute_result",
          "data": {
            "text/plain": [
              "array([4.49375312, 4.49937503, 4.4999375 , 4.49999938])"
            ]
          },
          "metadata": {
            "tags": []
          },
          "execution_count": 31
        }
      ]
    },
    {
      "cell_type": "code",
      "metadata": {
        "id": "pIHUeoNiODTT",
        "outputId": "7a1131aa-b615-4b24-a21e-9fa4d0a41a5e",
        "colab": {
          "base_uri": "https://localhost:8080/"
        }
      },
      "source": [
        "x=np.linspace(1/2-5,1/2+5,101)\n",
        "x"
      ],
      "execution_count": 33,
      "outputs": [
        {
          "output_type": "execute_result",
          "data": {
            "text/plain": [
              "array([-4.5, -4.4, -4.3, -4.2, -4.1, -4. , -3.9, -3.8, -3.7, -3.6, -3.5,\n",
              "       -3.4, -3.3, -3.2, -3.1, -3. , -2.9, -2.8, -2.7, -2.6, -2.5, -2.4,\n",
              "       -2.3, -2.2, -2.1, -2. , -1.9, -1.8, -1.7, -1.6, -1.5, -1.4, -1.3,\n",
              "       -1.2, -1.1, -1. , -0.9, -0.8, -0.7, -0.6, -0.5, -0.4, -0.3, -0.2,\n",
              "       -0.1,  0. ,  0.1,  0.2,  0.3,  0.4,  0.5,  0.6,  0.7,  0.8,  0.9,\n",
              "        1. ,  1.1,  1.2,  1.3,  1.4,  1.5,  1.6,  1.7,  1.8,  1.9,  2. ,\n",
              "        2.1,  2.2,  2.3,  2.4,  2.5,  2.6,  2.7,  2.8,  2.9,  3. ,  3.1,\n",
              "        3.2,  3.3,  3.4,  3.5,  3.6,  3.7,  3.8,  3.9,  4. ,  4.1,  4.2,\n",
              "        4.3,  4.4,  4.5,  4.6,  4.7,  4.8,  4.9,  5. ,  5.1,  5.2,  5.3,\n",
              "        5.4,  5.5])"
            ]
          },
          "metadata": {
            "tags": []
          },
          "execution_count": 33
        }
      ]
    },
    {
      "cell_type": "code",
      "metadata": {
        "id": "kqFOLcbDOda7",
        "outputId": "a3d0767a-f54c-4f52-f200-f82290d03b44",
        "colab": {
          "base_uri": "https://localhost:8080/",
          "height": 317
        }
      },
      "source": [
        "plt.plot(x,g(x))\n",
        "plt.axhline(4.5,color='gray')\n",
        "plt.axvline(1/2,color='gray')"
      ],
      "execution_count": 34,
      "outputs": [
        {
          "output_type": "stream",
          "text": [
            "/usr/local/lib/python3.6/dist-packages/ipykernel_launcher.py:2: RuntimeWarning: divide by zero encountered in true_divide\n",
            "  \n"
          ],
          "name": "stderr"
        },
        {
          "output_type": "execute_result",
          "data": {
            "text/plain": [
              "<matplotlib.lines.Line2D at 0x7fee05d0fbe0>"
            ]
          },
          "metadata": {
            "tags": []
          },
          "execution_count": 34
        },
        {
          "output_type": "display_data",
          "data": {
            "image/png": "[encoded data removed]",
            "text/plain": [
              "<Figure size 432x288 with 1 Axes>"
            ]
          },
          "metadata": {
            "tags": [],
            "needs_background": "light"
          }
        }
      ]
    },
    {
      "cell_type": "code",
      "metadata": {
        "id": "2qua7GJrOrcO"
      },
      "source": [
        ""
      ],
      "execution_count": null,
      "outputs": []
    }
  ]
}