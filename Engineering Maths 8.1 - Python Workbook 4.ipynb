{
 "cells": [
  {
   "cell_type": "markdown",
   "metadata": {},
   "source": [
    "# Engineering Maths 8.1 2020\n",
    "\n",
    "## Monday, 2 November 11:15 a.m."
   ]
  },
  {
   "cell_type": "markdown",
   "metadata": {},
   "source": [
    "# Defining & plotting functions\n",
    "\n",
    "\n",
    "* In most cases we will need the libraris __numpy__ and __matplotlib__ which we import as follows"
   ]
  },
  {
   "cell_type": "code",
   "execution_count": 1,
   "metadata": {},
   "outputs": [],
   "source": [
    "import numpy as np\n",
    "import matplotlib.pyplot as plt"
   ]
  },
  {
   "cell_type": "markdown",
   "metadata": {},
   "source": [
    "* We also import a few useful functions from the __numpy__ library for conveniences"
   ]
  },
  {
   "cell_type": "code",
   "execution_count": 2,
   "metadata": {},
   "outputs": [],
   "source": [
    "from numpy import cos, sin, tan, log, exp, sqrt, pi "
   ]
  },
  {
   "cell_type": "markdown",
   "metadata": {},
   "source": [
    "## Example 1\n",
    "\n",
    "\n",
    "* Define a __python function__ for\n",
    "\n",
    "$$f(x)=\\cos(x)-e^{-\\sin(x)}.$$"
   ]
  },
  {
   "cell_type": "code",
   "execution_count": 21,
   "metadata": {},
   "outputs": [],
   "source": [
    "def f(x):\n",
    "    return cos(x)-exp(-sin(x))"
   ]
  },
  {
   "cell_type": "markdown",
   "metadata": {},
   "source": [
    "## Example 2\n",
    "\n",
    "* Plot this function on the interval \n",
    "\n",
    "$$-5\\leq x\\leq 5.$$\n",
    "\n",
    "\n",
    "### Solution\n",
    "\n",
    "\n",
    "* If we were doing this by hand, we would find the length of our interval as follows"
   ]
  },
  {
   "cell_type": "code",
   "execution_count": 22,
   "metadata": {},
   "outputs": [
    {
     "data": {
      "text/plain": [
       "10"
      ]
     },
     "execution_count": 22,
     "metadata": {},
     "output_type": "execute_result"
    }
   ],
   "source": [
    "l=5-(-5)\n",
    "l"
   ]
  },
  {
   "cell_type": "markdown",
   "metadata": {},
   "source": [
    "* Next we would divide this number by the number of steps for the plot.\n",
    "\n",
    "\n",
    "* Since we have a comouter available, we can take a lot more steps without causing any extra work for us.\n",
    "\n",
    "\n",
    "* We will take $N=20$ steps."
   ]
  },
  {
   "cell_type": "code",
   "execution_count": 23,
   "metadata": {},
   "outputs": [
    {
     "data": {
      "text/plain": [
       "20"
      ]
     },
     "execution_count": 23,
     "metadata": {},
     "output_type": "execute_result"
    }
   ],
   "source": [
    "N=20\n",
    "N"
   ]
  },
  {
   "cell_type": "markdown",
   "metadata": {},
   "source": [
    "* The __step-size__ is given by"
   ]
  },
  {
   "cell_type": "code",
   "execution_count": 24,
   "metadata": {},
   "outputs": [
    {
     "data": {
      "text/plain": [
       "0.5"
      ]
     },
     "execution_count": 24,
     "metadata": {},
     "output_type": "execute_result"
    }
   ],
   "source": [
    "s=l/N\n",
    "s"
   ]
  },
  {
   "cell_type": "markdown",
   "metadata": {},
   "source": [
    "* We use the function __np.arange()__ to create a list of values starting at $-5$, ennding at $5$ with a step-size __s__ between each value."
   ]
  },
  {
   "cell_type": "code",
   "execution_count": 25,
   "metadata": {},
   "outputs": [
    {
     "data": {
      "text/plain": [
       "array([-5. , -4.5, -4. , -3.5, -3. , -2.5, -2. , -1.5, -1. , -0.5,  0. ,\n",
       "        0.5,  1. ,  1.5,  2. ,  2.5,  3. ,  3.5,  4. ,  4.5])"
      ]
     },
     "execution_count": 25,
     "metadata": {},
     "output_type": "execute_result"
    }
   ],
   "source": [
    "X=np.arange(-5,5,s)\n",
    "X"
   ]
  },
  {
   "cell_type": "markdown",
   "metadata": {},
   "source": [
    "* Notice that __X__ does not contain the end-point.\n",
    "\n",
    "* We can change this by changing the end-point to __5.5__ to give"
   ]
  },
  {
   "cell_type": "code",
   "execution_count": 26,
   "metadata": {},
   "outputs": [
    {
     "data": {
      "text/plain": [
       "array([-5. , -4.5, -4. , -3.5, -3. , -2.5, -2. , -1.5, -1. , -0.5,  0. ,\n",
       "        0.5,  1. ,  1.5,  2. ,  2.5,  3. ,  3.5,  4. ,  4.5,  5. ])"
      ]
     },
     "execution_count": 26,
     "metadata": {},
     "output_type": "execute_result"
    }
   ],
   "source": [
    "X=np.arange(-5,5.5,s)\n",
    "X"
   ]
  },
  {
   "cell_type": "markdown",
   "metadata": {},
   "source": [
    "* The plot of the function is given by"
   ]
  },
  {
   "cell_type": "code",
   "execution_count": 27,
   "metadata": {},
   "outputs": [
    {
     "data": {
      "text/plain": [
       "Text(0, 0.5, 'f(x)')"
      ]
     },
     "execution_count": 27,
     "metadata": {},
     "output_type": "execute_result"
    },
    {
     "data": {
      "image/png": "[encoded data removed]",
      "text/plain": [
       "<Figure size 432x288 with 1 Axes>"
      ]
     },
     "metadata": {
      "needs_background": "light"
     },
     "output_type": "display_data"
    }
   ],
   "source": [
    "plt.plot(X,f(X))\n",
    "plt.xlabel('x')\n",
    "plt.ylabel('f(x)')"
   ]
  },
  {
   "cell_type": "markdown",
   "metadata": {},
   "source": [
    "* Very jagged!!\n",
    "\n",
    "\n",
    "* We can smooth this out by increasing the number of steps.\n",
    "\n",
    "\n",
    "* We will now use __N=250__ steps instead"
   ]
  },
  {
   "cell_type": "code",
   "execution_count": 28,
   "metadata": {},
   "outputs": [
    {
     "data": {
      "text/plain": [
       "0.04"
      ]
     },
     "execution_count": 28,
     "metadata": {},
     "output_type": "execute_result"
    }
   ],
   "source": [
    "N=250\n",
    "s=l/N\n",
    "s"
   ]
  },
  {
   "cell_type": "code",
   "execution_count": 29,
   "metadata": {},
   "outputs": [
    {
     "data": {
      "text/plain": [
       "array([-5.0000000e+00, -4.9600000e+00, -4.9200000e+00, -4.8800000e+00,\n",
       "       -4.8400000e+00, -4.8000000e+00, -4.7600000e+00, -4.7200000e+00,\n",
       "       -4.6800000e+00, -4.6400000e+00, -4.6000000e+00, -4.5600000e+00,\n",
       "       -4.5200000e+00, -4.4800000e+00, -4.4400000e+00, -4.4000000e+00,\n",
       "       -4.3600000e+00, -4.3200000e+00, -4.2800000e+00, -4.2400000e+00,\n",
       "       -4.2000000e+00, -4.1600000e+00, -4.1200000e+00, -4.0800000e+00,\n",
       "       -4.0400000e+00, -4.0000000e+00, -3.9600000e+00, -3.9200000e+00,\n",
       "       -3.8800000e+00, -3.8400000e+00, -3.8000000e+00, -3.7600000e+00,\n",
       "       -3.7200000e+00, -3.6800000e+00, -3.6400000e+00, -3.6000000e+00,\n",
       "       -3.5600000e+00, -3.5200000e+00, -3.4800000e+00, -3.4400000e+00,\n",
       "       -3.4000000e+00, -3.3600000e+00, -3.3200000e+00, -3.2800000e+00,\n",
       "       -3.2400000e+00, -3.2000000e+00, -3.1600000e+00, -3.1200000e+00,\n",
       "       -3.0800000e+00, -3.0400000e+00, -3.0000000e+00, -2.9600000e+00,\n",
       "       -2.9200000e+00, -2.8800000e+00, -2.8400000e+00, -2.8000000e+00,\n",
       "       -2.7600000e+00, -2.7200000e+00, -2.6800000e+00, -2.6400000e+00,\n",
       "       -2.6000000e+00, -2.5600000e+00, -2.5200000e+00, -2.4800000e+00,\n",
       "       -2.4400000e+00, -2.4000000e+00, -2.3600000e+00, -2.3200000e+00,\n",
       "       -2.2800000e+00, -2.2400000e+00, -2.2000000e+00, -2.1600000e+00,\n",
       "       -2.1200000e+00, -2.0800000e+00, -2.0400000e+00, -2.0000000e+00,\n",
       "       -1.9600000e+00, -1.9200000e+00, -1.8800000e+00, -1.8400000e+00,\n",
       "       -1.8000000e+00, -1.7600000e+00, -1.7200000e+00, -1.6800000e+00,\n",
       "       -1.6400000e+00, -1.6000000e+00, -1.5600000e+00, -1.5200000e+00,\n",
       "       -1.4800000e+00, -1.4400000e+00, -1.4000000e+00, -1.3600000e+00,\n",
       "       -1.3200000e+00, -1.2800000e+00, -1.2400000e+00, -1.2000000e+00,\n",
       "       -1.1600000e+00, -1.1200000e+00, -1.0800000e+00, -1.0400000e+00,\n",
       "       -1.0000000e+00, -9.6000000e-01, -9.2000000e-01, -8.8000000e-01,\n",
       "       -8.4000000e-01, -8.0000000e-01, -7.6000000e-01, -7.2000000e-01,\n",
       "       -6.8000000e-01, -6.4000000e-01, -6.0000000e-01, -5.6000000e-01,\n",
       "       -5.2000000e-01, -4.8000000e-01, -4.4000000e-01, -4.0000000e-01,\n",
       "       -3.6000000e-01, -3.2000000e-01, -2.8000000e-01, -2.4000000e-01,\n",
       "       -2.0000000e-01, -1.6000000e-01, -1.2000000e-01, -8.0000000e-02,\n",
       "       -4.0000000e-02,  4.4408921e-15,  4.0000000e-02,  8.0000000e-02,\n",
       "        1.2000000e-01,  1.6000000e-01,  2.0000000e-01,  2.4000000e-01,\n",
       "        2.8000000e-01,  3.2000000e-01,  3.6000000e-01,  4.0000000e-01,\n",
       "        4.4000000e-01,  4.8000000e-01,  5.2000000e-01,  5.6000000e-01,\n",
       "        6.0000000e-01,  6.4000000e-01,  6.8000000e-01,  7.2000000e-01,\n",
       "        7.6000000e-01,  8.0000000e-01,  8.4000000e-01,  8.8000000e-01,\n",
       "        9.2000000e-01,  9.6000000e-01,  1.0000000e+00,  1.0400000e+00,\n",
       "        1.0800000e+00,  1.1200000e+00,  1.1600000e+00,  1.2000000e+00,\n",
       "        1.2400000e+00,  1.2800000e+00,  1.3200000e+00,  1.3600000e+00,\n",
       "        1.4000000e+00,  1.4400000e+00,  1.4800000e+00,  1.5200000e+00,\n",
       "        1.5600000e+00,  1.6000000e+00,  1.6400000e+00,  1.6800000e+00,\n",
       "        1.7200000e+00,  1.7600000e+00,  1.8000000e+00,  1.8400000e+00,\n",
       "        1.8800000e+00,  1.9200000e+00,  1.9600000e+00,  2.0000000e+00,\n",
       "        2.0400000e+00,  2.0800000e+00,  2.1200000e+00,  2.1600000e+00,\n",
       "        2.2000000e+00,  2.2400000e+00,  2.2800000e+00,  2.3200000e+00,\n",
       "        2.3600000e+00,  2.4000000e+00,  2.4400000e+00,  2.4800000e+00,\n",
       "        2.5200000e+00,  2.5600000e+00,  2.6000000e+00,  2.6400000e+00,\n",
       "        2.6800000e+00,  2.7200000e+00,  2.7600000e+00,  2.8000000e+00,\n",
       "        2.8400000e+00,  2.8800000e+00,  2.9200000e+00,  2.9600000e+00,\n",
       "        3.0000000e+00,  3.0400000e+00,  3.0800000e+00,  3.1200000e+00,\n",
       "        3.1600000e+00,  3.2000000e+00,  3.2400000e+00,  3.2800000e+00,\n",
       "        3.3200000e+00,  3.3600000e+00,  3.4000000e+00,  3.4400000e+00,\n",
       "        3.4800000e+00,  3.5200000e+00,  3.5600000e+00,  3.6000000e+00,\n",
       "        3.6400000e+00,  3.6800000e+00,  3.7200000e+00,  3.7600000e+00,\n",
       "        3.8000000e+00,  3.8400000e+00,  3.8800000e+00,  3.9200000e+00,\n",
       "        3.9600000e+00,  4.0000000e+00,  4.0400000e+00,  4.0800000e+00,\n",
       "        4.1200000e+00,  4.1600000e+00,  4.2000000e+00,  4.2400000e+00,\n",
       "        4.2800000e+00,  4.3200000e+00,  4.3600000e+00,  4.4000000e+00,\n",
       "        4.4400000e+00,  4.4800000e+00,  4.5200000e+00,  4.5600000e+00,\n",
       "        4.6000000e+00,  4.6400000e+00,  4.6800000e+00,  4.7200000e+00,\n",
       "        4.7600000e+00,  4.8000000e+00,  4.8400000e+00,  4.8800000e+00,\n",
       "        4.9200000e+00,  4.9600000e+00,  5.0000000e+00])"
      ]
     },
     "execution_count": 29,
     "metadata": {},
     "output_type": "execute_result"
    }
   ],
   "source": [
    "X=np.arange(-5,5+s,s)\n",
    "X"
   ]
  },
  {
   "cell_type": "code",
   "execution_count": 30,
   "metadata": {},
   "outputs": [
    {
     "data": {
      "text/plain": [
       "Text(0, 0.5, 'f(x)')"
      ]
     },
     "execution_count": 30,
     "metadata": {},
     "output_type": "execute_result"
    },
    {
     "data": {
      "image/png": "[encoded data removed]",
      "text/plain": [
       "<Figure size 432x288 with 1 Axes>"
      ]
     },
     "metadata": {
      "needs_background": "light"
     },
     "output_type": "display_data"
    }
   ],
   "source": [
    "plt.plot(X,f(X))\n",
    "plt.xlabel('x')\n",
    "plt.ylabel('f(x)')"
   ]
  },
  {
   "cell_type": "code",
   "execution_count": null,
   "metadata": {},
   "outputs": [],
   "source": []
  }
 ],
 "metadata": {
  "kernelspec": {
   "display_name": "Python 3",
   "language": "python",
   "name": "python3"
  },
  "language_info": {
   "codemirror_mode": {
    "name": "ipython",
    "version": 3
   },
   "file_extension": ".py",
   "mimetype": "text/x-python",
   "name": "python",
   "nbconvert_exporter": "python",
   "pygments_lexer": "ipython3",
   "version": "3.8.3"
  }
 },
 "nbformat": 4,
 "nbformat_minor": 4
}
